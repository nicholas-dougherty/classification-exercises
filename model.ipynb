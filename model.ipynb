{
 "cells": [
  {
   "cell_type": "markdown",
   "id": "43d7d441",
   "metadata": {},
   "source": [
    "# DECISION TREES\n",
    "Using the titanic data, in your classification-exercises repository, create a notebook, model.ipynb where you will do the following:"
   ]
  },
  {
   "cell_type": "code",
   "execution_count": 80,
   "id": "1de69d6d",
   "metadata": {},
   "outputs": [],
   "source": [
    "import numpy as np\n",
    "import pandas as pd\n",
    "import matplotlib.pyplot as plt\n",
    "import seaborn as sns\n",
    "\n",
    "from sklearn.model_selection import train_test_split\n",
    "from sklearn.tree import DecisionTreeClassifier\n",
    "from sklearn.tree import export_graphviz\n",
    "from sklearn.metrics import classification_report\n",
    "from sklearn.metrics import confusion_matrix\n",
    "from sklearn.metrics import accuracy_score\n",
    "import sklearn.metrics\n",
    "\n",
    "from acquire import get_titanic_data\n",
    "from prepare import prep_titanic\n",
    "import env\n",
    "\n",
    "from FUNctions import describe_data"
   ]
  },
  {
   "cell_type": "markdown",
   "id": "ae84614a",
   "metadata": {},
   "source": [
    "1.) What is your baseline prediction? What is your baseline accuracy? \n",
    "- remember: your baseline prediction for a classification problem is predicting the most prevelant class in the training dataset (the mode). When you make those predictions, what is your accuracy? This is your baseline accuracy."
   ]
  },
  {
   "cell_type": "code",
   "execution_count": 81,
   "id": "32a0103f",
   "metadata": {},
   "outputs": [
    {
     "name": "stdout",
     "output_type": "stream",
     "text": [
      "Using cached csv\n",
      "The first three rows are: \n",
      "----------------------------------------------------------\n",
      "   survived  pclass  sibsp  parch     fare  alone  Queenstown  Southampton  \\\n",
      "0         0       3      1      0   7.2500      0           0            1   \n",
      "1         1       1      1      0  71.2833      0           0            0   \n",
      "2         1       3      0      0   7.9250      1           0            1   \n",
      "\n",
      "   male  \n",
      "0     1  \n",
      "1     0  \n",
      "2     0  \n",
      "----------------------------------------------------------\n",
      "The data frame's shape is: \n",
      "-------------------------\n",
      "(891, 9)\n",
      "-------------------------\n",
      "The data types and column names are: \n",
      "['Queenstown', 'Southampton', 'alone', 'fare', 'male', 'parch', 'pclass', 'sibsp', 'survived']\n",
      "<class 'pandas.core.frame.DataFrame'>\n",
      "Int64Index: 891 entries, 0 to 890\n",
      "Data columns (total 9 columns):\n",
      " #   Column       Non-Null Count  Dtype  \n",
      "---  ------       --------------  -----  \n",
      " 0   survived     891 non-null    int64  \n",
      " 1   pclass       891 non-null    int64  \n",
      " 2   sibsp        891 non-null    int64  \n",
      " 3   parch        891 non-null    int64  \n",
      " 4   fare         891 non-null    float64\n",
      " 5   alone        891 non-null    int64  \n",
      " 6   Queenstown   891 non-null    uint8  \n",
      " 7   Southampton  891 non-null    uint8  \n",
      " 8   male         891 non-null    uint8  \n",
      "dtypes: float64(1), int64(5), uint8(3)\n",
      "memory usage: 51.3 KB\n",
      "None\n",
      "----------------------------------------------------------\n",
      "The summary statistics are as follows: \n",
      "----------------------------------------------------------\n",
      "         survived      pclass       sibsp       parch        fare       alone  \\\n",
      "count  891.000000  891.000000  891.000000  891.000000  891.000000  891.000000   \n",
      "mean     0.383838    2.308642    0.523008    0.381594   32.204208    0.602694   \n",
      "std      0.486592    0.836071    1.102743    0.806057   49.693429    0.489615   \n",
      "min      0.000000    1.000000    0.000000    0.000000    0.000000    0.000000   \n",
      "25%      0.000000    2.000000    0.000000    0.000000    7.910400    0.000000   \n",
      "50%      0.000000    3.000000    0.000000    0.000000   14.454200    1.000000   \n",
      "75%      1.000000    3.000000    1.000000    0.000000   31.000000    1.000000   \n",
      "max      1.000000    3.000000    8.000000    6.000000  512.329200    1.000000   \n",
      "\n",
      "       Queenstown  Southampton        male  \n",
      "count  891.000000   891.000000  891.000000  \n",
      "mean     0.086420     0.725028    0.647587  \n",
      "std      0.281141     0.446751    0.477990  \n",
      "min      0.000000     0.000000    0.000000  \n",
      "25%      0.000000     0.000000    0.000000  \n",
      "50%      0.000000     1.000000    1.000000  \n",
      "75%      0.000000     1.000000    1.000000  \n",
      "max      1.000000     1.000000    1.000000  \n",
      "----------------------------------------------------------\n",
      "The number of NA's is:\n",
      "-------------------------\n",
      "survived       0\n",
      "pclass         0\n",
      "sibsp          0\n",
      "parch          0\n",
      "fare           0\n",
      "alone          0\n",
      "Queenstown     0\n",
      "Southampton    0\n",
      "male           0\n",
      "dtype: int64\n",
      "-------------------------\n",
      "----------------------------------------------------------\n",
      "Unique Values for the Columns:\n",
      "-------------------------\n",
      "Column: survived\n",
      "Unique Values: [0 1]\n",
      "-----------------------\n",
      "Column: pclass\n",
      "Unique Values: [3 1 2]\n",
      "-----------------------\n",
      "Column: sibsp\n",
      "Unique Values: [1 0 3 4 2 5 8]\n",
      "-----------------------\n",
      "Column: parch\n",
      "Unique Values: [0 1 2 5 3 4 6]\n",
      "-----------------------\n",
      "Column: fare\n",
      "Range of Values: [0.0 - 512.3292]\n",
      "-----------------------\n",
      "Column: alone\n",
      "Unique Values: [0 1]\n",
      "-----------------------\n",
      "Column: Queenstown\n",
      "Unique Values: [0 1]\n",
      "-----------------------\n",
      "Column: Southampton\n",
      "Unique Values: [1 0]\n",
      "-----------------------\n",
      "Column: male\n",
      "Unique Values: [1 0]\n",
      "-----------------------\n",
      "-------Done-zo-------------\n"
     ]
    }
   ],
   "source": [
    "titanic = get_titanic_data() \n",
    "#describe_data(titanic)\n",
    "titanic = prep_titanic(titanic)\n",
    "describe_data(titanic)"
   ]
  },
  {
   "cell_type": "code",
   "execution_count": 82,
   "id": "310facab",
   "metadata": {},
   "outputs": [
    {
     "data": {
      "text/plain": [
       "((498, 9), (214, 9), (179, 9))"
      ]
     },
     "execution_count": 82,
     "metadata": {},
     "output_type": "execute_result"
    }
   ],
   "source": [
    "# Since my data is already prepared due to a previous exercise, I can immediately split. \n",
    "train, test = train_test_split(titanic, test_size=.2, random_state=123, stratify=titanic.survived)\n",
    "train, validate = train_test_split(train, test_size=.3, random_state=123, stratify=train.survived)\n",
    "\n",
    "train.shape, validate.shape, test.shape\n",
    "# columns line up, good to go. "
   ]
  },
  {
   "cell_type": "code",
   "execution_count": 83,
   "id": "3193fd10",
   "metadata": {},
   "outputs": [],
   "source": [
    "X_train, y_train = train.drop(columns='survived'), train.survived\n",
    "X_validate, y_validate = validate.drop(columns='survived'), validate.survived\n",
    "X_test, y_test = test.drop(columns='survived'), test.survived"
   ]
  },
  {
   "cell_type": "code",
   "execution_count": 84,
   "id": "90bd3323",
   "metadata": {},
   "outputs": [
    {
     "name": "stdout",
     "output_type": "stream",
     "text": [
      "0    549\n",
      "1    342\n",
      "Name: survived, dtype: int64\n",
      "Based on this, the baseline is fatalities. Non-survivors.\n"
     ]
    }
   ],
   "source": [
    "print(f'{titanic.survived.value_counts()}')\n",
    "print('Based on this, the baseline is fatalities. Non-survivors.')\n",
    "train['baseline'] = 0"
   ]
  },
  {
   "cell_type": "code",
   "execution_count": 85,
   "id": "98ecc0fa",
   "metadata": {},
   "outputs": [
    {
     "data": {
      "text/plain": [
       "0.6164658634538153"
      ]
     },
     "execution_count": 85,
     "metadata": {},
     "output_type": "execute_result"
    }
   ],
   "source": [
    "accuracy_score(train.survived, train.baseline)"
   ]
  },
  {
   "cell_type": "markdown",
   "id": "11e9ce3d",
   "metadata": {},
   "source": [
    "2.) Fit the decision tree classifier to your training sample and transform (i.e. make predictions on the training sample)"
   ]
  },
  {
   "cell_type": "code",
   "execution_count": 86,
   "id": "053f4818",
   "metadata": {},
   "outputs": [
    {
     "name": "stdout",
     "output_type": "stream",
     "text": [
      "training score: 94.58%\n",
      "validate score: 75.70%\n"
     ]
    }
   ],
   "source": [
    "model1 = DecisionTreeClassifier()\n",
    "model1.fit(X_train, y_train)\n",
    "\n",
    "print(f'training score: {model1.score(X_train, y_train):.2%}')\n",
    "print(f'validate score: {model1.score(X_validate, y_validate):.2%}')"
   ]
  },
  {
   "cell_type": "code",
   "execution_count": 87,
   "id": "2eca0b40",
   "metadata": {},
   "outputs": [
    {
     "data": {
      "text/html": [
       "<div>\n",
       "<style scoped>\n",
       "    .dataframe tbody tr th:only-of-type {\n",
       "        vertical-align: middle;\n",
       "    }\n",
       "\n",
       "    .dataframe tbody tr th {\n",
       "        vertical-align: top;\n",
       "    }\n",
       "\n",
       "    .dataframe thead th {\n",
       "        text-align: right;\n",
       "    }\n",
       "</style>\n",
       "<table border=\"1\" class=\"dataframe\">\n",
       "  <thead>\n",
       "    <tr style=\"text-align: right;\">\n",
       "      <th></th>\n",
       "      <th>survived</th>\n",
       "      <th>pclass</th>\n",
       "      <th>sibsp</th>\n",
       "      <th>parch</th>\n",
       "      <th>fare</th>\n",
       "      <th>alone</th>\n",
       "      <th>Queenstown</th>\n",
       "      <th>Southampton</th>\n",
       "      <th>male</th>\n",
       "      <th>baseline</th>\n",
       "      <th>model1</th>\n",
       "    </tr>\n",
       "  </thead>\n",
       "  <tbody>\n",
       "    <tr>\n",
       "      <th>583</th>\n",
       "      <td>0</td>\n",
       "      <td>1</td>\n",
       "      <td>0</td>\n",
       "      <td>0</td>\n",
       "      <td>40.1250</td>\n",
       "      <td>1</td>\n",
       "      <td>0</td>\n",
       "      <td>0</td>\n",
       "      <td>1</td>\n",
       "      <td>0</td>\n",
       "      <td>0</td>\n",
       "    </tr>\n",
       "    <tr>\n",
       "      <th>165</th>\n",
       "      <td>1</td>\n",
       "      <td>3</td>\n",
       "      <td>0</td>\n",
       "      <td>2</td>\n",
       "      <td>20.5250</td>\n",
       "      <td>0</td>\n",
       "      <td>0</td>\n",
       "      <td>1</td>\n",
       "      <td>1</td>\n",
       "      <td>0</td>\n",
       "      <td>1</td>\n",
       "    </tr>\n",
       "    <tr>\n",
       "      <th>50</th>\n",
       "      <td>0</td>\n",
       "      <td>3</td>\n",
       "      <td>4</td>\n",
       "      <td>1</td>\n",
       "      <td>39.6875</td>\n",
       "      <td>0</td>\n",
       "      <td>0</td>\n",
       "      <td>1</td>\n",
       "      <td>1</td>\n",
       "      <td>0</td>\n",
       "      <td>0</td>\n",
       "    </tr>\n",
       "    <tr>\n",
       "      <th>259</th>\n",
       "      <td>1</td>\n",
       "      <td>2</td>\n",
       "      <td>0</td>\n",
       "      <td>1</td>\n",
       "      <td>26.0000</td>\n",
       "      <td>0</td>\n",
       "      <td>0</td>\n",
       "      <td>1</td>\n",
       "      <td>0</td>\n",
       "      <td>0</td>\n",
       "      <td>1</td>\n",
       "    </tr>\n",
       "    <tr>\n",
       "      <th>306</th>\n",
       "      <td>1</td>\n",
       "      <td>1</td>\n",
       "      <td>0</td>\n",
       "      <td>0</td>\n",
       "      <td>110.8833</td>\n",
       "      <td>1</td>\n",
       "      <td>0</td>\n",
       "      <td>0</td>\n",
       "      <td>0</td>\n",
       "      <td>0</td>\n",
       "      <td>1</td>\n",
       "    </tr>\n",
       "  </tbody>\n",
       "</table>\n",
       "</div>"
      ],
      "text/plain": [
       "     survived  pclass  sibsp  parch      fare  alone  Queenstown  Southampton  \\\n",
       "583         0       1      0      0   40.1250      1           0            0   \n",
       "165         1       3      0      2   20.5250      0           0            1   \n",
       "50          0       3      4      1   39.6875      0           0            1   \n",
       "259         1       2      0      1   26.0000      0           0            1   \n",
       "306         1       1      0      0  110.8833      1           0            0   \n",
       "\n",
       "     male  baseline  model1  \n",
       "583     1         0       0  \n",
       "165     1         0       1  \n",
       "50      1         0       0  \n",
       "259     0         0       1  \n",
       "306     0         0       1  "
      ]
     },
     "execution_count": 87,
     "metadata": {},
     "output_type": "execute_result"
    }
   ],
   "source": [
    "train['model1'] = model1.predict(X_train)\n",
    "train.head()"
   ]
  },
  {
   "cell_type": "code",
   "execution_count": 88,
   "id": "555ba7fe",
   "metadata": {},
   "outputs": [],
   "source": [
    "y_pred = model1.predict(X_train)"
   ]
  },
  {
   "cell_type": "markdown",
   "id": "5e90b00b",
   "metadata": {},
   "source": [
    "3.) Evaluate your in-sample results using the model score, confusion matrix, and classification report."
   ]
  },
  {
   "cell_type": "code",
   "execution_count": 89,
   "id": "e0fc3e9a",
   "metadata": {},
   "outputs": [
    {
     "data": {
      "text/plain": [
       "0.7570093457943925"
      ]
     },
     "execution_count": 89,
     "metadata": {},
     "output_type": "execute_result"
    }
   ],
   "source": [
    "#using model score\n",
    "model1.score(X_validate,y_validate)"
   ]
  },
  {
   "cell_type": "code",
   "execution_count": 90,
   "id": "804539b0",
   "metadata": {},
   "outputs": [
    {
     "data": {
      "text/html": [
       "<div>\n",
       "<style scoped>\n",
       "    .dataframe tbody tr th:only-of-type {\n",
       "        vertical-align: middle;\n",
       "    }\n",
       "\n",
       "    .dataframe tbody tr th {\n",
       "        vertical-align: top;\n",
       "    }\n",
       "\n",
       "    .dataframe thead th {\n",
       "        text-align: right;\n",
       "    }\n",
       "</style>\n",
       "<table border=\"1\" class=\"dataframe\">\n",
       "  <thead>\n",
       "    <tr style=\"text-align: right;\">\n",
       "      <th>col_0</th>\n",
       "      <th>0</th>\n",
       "      <th>1</th>\n",
       "    </tr>\n",
       "    <tr>\n",
       "      <th>survived</th>\n",
       "      <th></th>\n",
       "      <th></th>\n",
       "    </tr>\n",
       "  </thead>\n",
       "  <tbody>\n",
       "    <tr>\n",
       "      <th>0</th>\n",
       "      <td>0.612450</td>\n",
       "      <td>0.004016</td>\n",
       "    </tr>\n",
       "    <tr>\n",
       "      <th>1</th>\n",
       "      <td>0.050201</td>\n",
       "      <td>0.333333</td>\n",
       "    </tr>\n",
       "  </tbody>\n",
       "</table>\n",
       "</div>"
      ],
      "text/plain": [
       "col_0            0         1\n",
       "survived                    \n",
       "0         0.612450  0.004016\n",
       "1         0.050201  0.333333"
      ]
     },
     "execution_count": 90,
     "metadata": {},
     "output_type": "execute_result"
    }
   ],
   "source": [
    "#confusion matrix\n",
    "pd.crosstab(y_train, y_pred, normalize = True)"
   ]
  },
  {
   "cell_type": "code",
   "execution_count": 91,
   "id": "8f3425b6",
   "metadata": {},
   "outputs": [
    {
     "name": "stdout",
     "output_type": "stream",
     "text": [
      "              precision    recall  f1-score   support\n",
      "\n",
      "           0       0.92      0.99      0.96       307\n",
      "           1       0.99      0.87      0.92       191\n",
      "\n",
      "    accuracy                           0.95       498\n",
      "   macro avg       0.96      0.93      0.94       498\n",
      "weighted avg       0.95      0.95      0.95       498\n",
      "\n"
     ]
    }
   ],
   "source": [
    "#classification report\n",
    "print(classification_report(y_train, y_pred))"
   ]
  },
  {
   "cell_type": "markdown",
   "id": "3296752e",
   "metadata": {},
   "source": [
    "4.) Compute: Accuracy, true positive rate, false positive rate, true negative rate, false negative rate, precision, recall, f1-score, and support."
   ]
  },
  {
   "cell_type": "code",
   "execution_count": null,
   "id": "170b032f",
   "metadata": {},
   "outputs": [],
   "source": [
    "# COnfusion Matrix will give me the values needed for TP, FP, TN, FN rates"
   ]
  },
  {
   "cell_type": "code",
   "execution_count": 110,
   "id": "a9727f5f",
   "metadata": {},
   "outputs": [
    {
     "name": "stdout",
     "output_type": "stream",
     "text": [
      " The accuracy is: 94.58%\n",
      " Confusion Matrix: \n",
      " [[305   2]\n",
      " [ 25 166]] \n",
      " \n",
      "Number of true negatives  (tn) =  305\n",
      "Number of true positives  (tp) =  166\n",
      "Number of false negatives (fn) =  25\n",
      "Number of false positives (fp) =  2\n",
      "\n",
      "What the confusion matrix tells us now, in more detail, is that we got 305\n",
      "of the people who did not survive right, and 166 of the people who did survive right.\n",
      "But also that we killed 25 of the passengers in our model,\n",
      "and brought 2 of them back to life through Necromancy!\n",
      " The precision is: 98.81%\n",
      " The recall rate is: 86.91%\n",
      " The F1 score is: 92.48%\n"
     ]
    }
   ],
   "source": [
    "#accuracy\n",
    "acc = sklearn.metrics.accuracy_score(y_train, y_pred)\n",
    "print(f' The accuracy is: {acc:.2%}')\n",
    "\n",
    "#Confusion Matrix for TP FP TN FN\n",
    "cm = confusion_matrix(y_train, y_pred)\n",
    "print(f' Confusion Matrix: \\n {cm} \\n ')\n",
    "\n",
    "titanic_cm = confusion_matrix(y_train, y_pred)\n",
    "titanic_cm\n",
    "\n",
    "tn, fp, fn, tp = titanic_cm.ravel()\n",
    "print(\"Number of true negatives  (tn) = \",tn)\n",
    "print(\"Number of true positives  (tp) = \",tp)\n",
    "print(\"Number of false negatives (fn) = \",fn)\n",
    "print(\"Number of false positives (fp) = \",fp)\n",
    "\n",
    "print(\"\"\"\n",
    "What the confusion matrix tells us now, in more detail, is that we got 305\n",
    "of the people who did not survive right, and 166 of the people who did survive right.\n",
    "But also that we killed 25 of the passengers in our model,\n",
    "and brought 2 of them back to life through Necromancy!\"\"\")\n",
    "#precision\n",
    "pre = sklearn.metrics.precision_score(y_train,y_pred)\n",
    "print(f' The precision is: {pre:.2%}')\n",
    "\n",
    "#recall\n",
    "rec = sklearn.metrics.recall_score(y_train,y_pred)\n",
    "print(f' The recall rate is: {rec:.2%}')\n",
    "\n",
    "#f1-score\n",
    "f1 = sklearn.metrics.f1_score(y_train,y_pred)\n",
    "print(f' The F1 score is: {f1:.2%}')\n",
    "\n",
    "#support\n",
    "\n",
    "#FP = confusion_matrix.sum(axis=0) - np.diag(confusion_matrix)  \n",
    "#FN = confusion_matrix.sum(axis=1) - np.diag(confusion_matrix)\n",
    "#TP = np.diag(confusion_matrix)\n",
    "#TN = confusion_matrix.sum() - (FP + FN + TP)\n",
    "#\n",
    "#print(FP, FN, TP, TN)"
   ]
  },
  {
   "cell_type": "markdown",
   "id": "f887ec9f",
   "metadata": {},
   "source": [
    "5.) Run through steps 2-4 using a different max_depth value."
   ]
  },
  {
   "cell_type": "code",
   "execution_count": null,
   "id": "e0520092",
   "metadata": {},
   "outputs": [],
   "source": []
  },
  {
   "cell_type": "markdown",
   "id": "fe80e7df",
   "metadata": {},
   "source": [
    "6.) Which model performs better on your in-sample data?"
   ]
  },
  {
   "cell_type": "code",
   "execution_count": null,
   "id": "7d9c1334",
   "metadata": {},
   "outputs": [],
   "source": []
  },
  {
   "cell_type": "markdown",
   "id": "f586806d",
   "metadata": {},
   "source": [
    "7.) Which model performs best on your out-of-sample data, the validate set?"
   ]
  },
  {
   "cell_type": "code",
   "execution_count": null,
   "id": "ef9f8b51",
   "metadata": {},
   "outputs": [],
   "source": []
  }
 ],
 "metadata": {
  "kernelspec": {
   "display_name": "Python 3 (ipykernel)",
   "language": "python",
   "name": "python3"
  },
  "language_info": {
   "codemirror_mode": {
    "name": "ipython",
    "version": 3
   },
   "file_extension": ".py",
   "mimetype": "text/x-python",
   "name": "python",
   "nbconvert_exporter": "python",
   "pygments_lexer": "ipython3",
   "version": "3.9.7"
  }
 },
 "nbformat": 4,
 "nbformat_minor": 5
}
