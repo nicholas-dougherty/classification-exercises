{
 "cells": [
  {
   "cell_type": "markdown",
   "id": "43d7d441",
   "metadata": {},
   "source": [
    "# DECISION TREES\n",
    "Using the titanic data, in your classification-exercises repository, create a notebook, model.ipynb where you will do the following:"
   ]
  },
  {
   "cell_type": "code",
   "execution_count": 1,
   "id": "1de69d6d",
   "metadata": {},
   "outputs": [],
   "source": [
    "import numpy as np\n",
    "import pandas as pd\n",
    "import matplotlib.pyplot as plt\n",
    "import seaborn as sns\n",
    "\n",
    "from sklearn.model_selection import train_test_split\n",
    "from sklearn.tree import DecisionTreeClassifier, plot_tree, export_text\n",
    "from sklearn.tree import export_graphviz\n",
    "from sklearn.metrics import classification_report\n",
    "from sklearn.metrics import confusion_matrix\n",
    "from sklearn.metrics import accuracy_score\n",
    "import sklearn.metrics\n",
    "\n",
    "from acquire import get_titanic_data, get_telco_data\n",
    "from prepare import prep_titanic, prep_telco\n",
    "import env\n",
    "\n",
    "from FUNctions import describe_data, get_metrics_binary"
   ]
  },
  {
   "cell_type": "markdown",
   "id": "ae84614a",
   "metadata": {},
   "source": [
    "1.) What is your baseline prediction? What is your baseline accuracy? \n",
    "- remember: your baseline prediction for a classification problem is predicting the most prevelant class in the training dataset (the mode). When you make those predictions, what is your accuracy? This is your baseline accuracy."
   ]
  },
  {
   "cell_type": "code",
   "execution_count": 2,
   "id": "32a0103f",
   "metadata": {},
   "outputs": [
    {
     "name": "stdout",
     "output_type": "stream",
     "text": [
      "Using cached csv\n",
      "The first three rows are: \n",
      "----------------------------------------------------------\n",
      "   survived  pclass  sibsp  parch     fare  alone  Queenstown  Southampton  \\\n",
      "0         0       3      1      0   7.2500      0           0            1   \n",
      "1         1       1      1      0  71.2833      0           0            0   \n",
      "2         1       3      0      0   7.9250      1           0            1   \n",
      "\n",
      "   male  \n",
      "0     1  \n",
      "1     0  \n",
      "2     0  \n",
      "----------------------------------------------------------\n",
      "The data frame's shape is: \n",
      "-------------------------\n",
      "(891, 9)\n",
      "-------------------------\n",
      "The data types and column names are: \n",
      "['Queenstown', 'Southampton', 'alone', 'fare', 'male', 'parch', 'pclass', 'sibsp', 'survived']\n",
      "<class 'pandas.core.frame.DataFrame'>\n",
      "Int64Index: 891 entries, 0 to 890\n",
      "Data columns (total 9 columns):\n",
      " #   Column       Non-Null Count  Dtype  \n",
      "---  ------       --------------  -----  \n",
      " 0   survived     891 non-null    int64  \n",
      " 1   pclass       891 non-null    int64  \n",
      " 2   sibsp        891 non-null    int64  \n",
      " 3   parch        891 non-null    int64  \n",
      " 4   fare         891 non-null    float64\n",
      " 5   alone        891 non-null    int64  \n",
      " 6   Queenstown   891 non-null    uint8  \n",
      " 7   Southampton  891 non-null    uint8  \n",
      " 8   male         891 non-null    uint8  \n",
      "dtypes: float64(1), int64(5), uint8(3)\n",
      "memory usage: 51.3 KB\n",
      "None\n",
      "----------------------------------------------------------\n",
      "The summary statistics are as follows: \n",
      "----------------------------------------------------------\n",
      "         survived      pclass       sibsp       parch        fare       alone  \\\n",
      "count  891.000000  891.000000  891.000000  891.000000  891.000000  891.000000   \n",
      "mean     0.383838    2.308642    0.523008    0.381594   32.204208    0.602694   \n",
      "std      0.486592    0.836071    1.102743    0.806057   49.693429    0.489615   \n",
      "min      0.000000    1.000000    0.000000    0.000000    0.000000    0.000000   \n",
      "25%      0.000000    2.000000    0.000000    0.000000    7.910400    0.000000   \n",
      "50%      0.000000    3.000000    0.000000    0.000000   14.454200    1.000000   \n",
      "75%      1.000000    3.000000    1.000000    0.000000   31.000000    1.000000   \n",
      "max      1.000000    3.000000    8.000000    6.000000  512.329200    1.000000   \n",
      "\n",
      "       Queenstown  Southampton        male  \n",
      "count  891.000000   891.000000  891.000000  \n",
      "mean     0.086420     0.725028    0.647587  \n",
      "std      0.281141     0.446751    0.477990  \n",
      "min      0.000000     0.000000    0.000000  \n",
      "25%      0.000000     0.000000    0.000000  \n",
      "50%      0.000000     1.000000    1.000000  \n",
      "75%      0.000000     1.000000    1.000000  \n",
      "max      1.000000     1.000000    1.000000  \n",
      "----------------------------------------------------------\n",
      "The number of NA's is:\n",
      "-------------------------\n",
      "survived       0\n",
      "pclass         0\n",
      "sibsp          0\n",
      "parch          0\n",
      "fare           0\n",
      "alone          0\n",
      "Queenstown     0\n",
      "Southampton    0\n",
      "male           0\n",
      "dtype: int64\n",
      "-------------------------\n",
      "----------------------------------------------------------\n",
      "Unique Values for the Columns:\n",
      "-------------------------\n",
      "Column: survived\n",
      "Unique Values: [0 1]\n",
      "-----------------------\n",
      "Column: pclass\n",
      "Unique Values: [3 1 2]\n",
      "-----------------------\n",
      "Column: sibsp\n",
      "Unique Values: [1 0 3 4 2 5 8]\n",
      "-----------------------\n",
      "Column: parch\n",
      "Unique Values: [0 1 2 5 3 4 6]\n",
      "-----------------------\n",
      "Column: fare\n",
      "Range of Values: [0.0 - 512.3292]\n",
      "-----------------------\n",
      "Column: alone\n",
      "Unique Values: [0 1]\n",
      "-----------------------\n",
      "Column: Queenstown\n",
      "Unique Values: [0 1]\n",
      "-----------------------\n",
      "Column: Southampton\n",
      "Unique Values: [1 0]\n",
      "-----------------------\n",
      "Column: male\n",
      "Unique Values: [1 0]\n",
      "-----------------------\n",
      "-------Done-zo-------------\n"
     ]
    }
   ],
   "source": [
    "titanic = get_titanic_data() \n",
    "#describe_data(titanic)\n",
    "titanic = prep_titanic(titanic)\n",
    "describe_data(titanic)"
   ]
  },
  {
   "cell_type": "code",
   "execution_count": 3,
   "id": "310facab",
   "metadata": {},
   "outputs": [
    {
     "data": {
      "text/plain": [
       "((498, 9), (214, 9), (179, 9))"
      ]
     },
     "execution_count": 3,
     "metadata": {},
     "output_type": "execute_result"
    }
   ],
   "source": [
    "# Since my data is already prepared due to a previous exercise, I can immediately split. \n",
    "train, test = train_test_split(titanic, test_size=.2, random_state=123, stratify=titanic.survived)\n",
    "train, validate = train_test_split(train, test_size=.3, random_state=123, stratify=train.survived)\n",
    "\n",
    "train.shape, validate.shape, test.shape\n",
    "# columns line up, good to go. "
   ]
  },
  {
   "cell_type": "code",
   "execution_count": 4,
   "id": "3193fd10",
   "metadata": {},
   "outputs": [],
   "source": [
    "X_train, y_train = train.drop(columns='survived'), train.survived\n",
    "X_validate, y_validate = validate.drop(columns='survived'), validate.survived\n",
    "X_test, y_test = test.drop(columns='survived'), test.survived"
   ]
  },
  {
   "cell_type": "code",
   "execution_count": 5,
   "id": "90bd3323",
   "metadata": {},
   "outputs": [
    {
     "name": "stdout",
     "output_type": "stream",
     "text": [
      "0    549\n",
      "1    342\n",
      "Name: survived, dtype: int64\n",
      "Based on this, the baseline is fatalities. Non-survivors.\n"
     ]
    }
   ],
   "source": [
    "print(f'{titanic.survived.value_counts()}')\n",
    "print('Based on this, the baseline is fatalities. Non-survivors.')\n",
    "train['baseline'] = 0"
   ]
  },
  {
   "cell_type": "code",
   "execution_count": 6,
   "id": "98ecc0fa",
   "metadata": {},
   "outputs": [
    {
     "data": {
      "text/plain": [
       "0.6164658634538153"
      ]
     },
     "execution_count": 6,
     "metadata": {},
     "output_type": "execute_result"
    }
   ],
   "source": [
    "accuracy_score(train.survived, train.baseline)"
   ]
  },
  {
   "cell_type": "markdown",
   "id": "11e9ce3d",
   "metadata": {},
   "source": [
    "2.) Fit the decision tree classifier to your training sample and transform (i.e. make predictions on the training sample)"
   ]
  },
  {
   "cell_type": "code",
   "execution_count": 34,
   "id": "053f4818",
   "metadata": {},
   "outputs": [
    {
     "name": "stdout",
     "output_type": "stream",
     "text": [
      "training score: 79.92%\n",
      "validate score: 76.17%\n"
     ]
    }
   ],
   "source": [
    "model1 = DecisionTreeClassifier(max_depth=1)\n",
    "model1.fit(X_train, y_train)\n",
    "\n",
    "print(f'training score: {model1.score(X_train, y_train):.2%}')\n",
    "print(f'validate score: {model1.score(X_validate, y_validate):.2%}')"
   ]
  },
  {
   "cell_type": "code",
   "execution_count": 35,
   "id": "2eca0b40",
   "metadata": {},
   "outputs": [
    {
     "data": {
      "text/html": [
       "<div>\n",
       "<style scoped>\n",
       "    .dataframe tbody tr th:only-of-type {\n",
       "        vertical-align: middle;\n",
       "    }\n",
       "\n",
       "    .dataframe tbody tr th {\n",
       "        vertical-align: top;\n",
       "    }\n",
       "\n",
       "    .dataframe thead th {\n",
       "        text-align: right;\n",
       "    }\n",
       "</style>\n",
       "<table border=\"1\" class=\"dataframe\">\n",
       "  <thead>\n",
       "    <tr style=\"text-align: right;\">\n",
       "      <th></th>\n",
       "      <th>survived</th>\n",
       "      <th>pclass</th>\n",
       "      <th>sibsp</th>\n",
       "      <th>parch</th>\n",
       "      <th>fare</th>\n",
       "      <th>alone</th>\n",
       "      <th>Queenstown</th>\n",
       "      <th>Southampton</th>\n",
       "      <th>male</th>\n",
       "      <th>baseline</th>\n",
       "      <th>model1</th>\n",
       "      <th>model2</th>\n",
       "    </tr>\n",
       "  </thead>\n",
       "  <tbody>\n",
       "    <tr>\n",
       "      <th>583</th>\n",
       "      <td>0</td>\n",
       "      <td>1</td>\n",
       "      <td>0</td>\n",
       "      <td>0</td>\n",
       "      <td>40.1250</td>\n",
       "      <td>1</td>\n",
       "      <td>0</td>\n",
       "      <td>0</td>\n",
       "      <td>1</td>\n",
       "      <td>0</td>\n",
       "      <td>0</td>\n",
       "      <td>0</td>\n",
       "    </tr>\n",
       "    <tr>\n",
       "      <th>165</th>\n",
       "      <td>1</td>\n",
       "      <td>3</td>\n",
       "      <td>0</td>\n",
       "      <td>2</td>\n",
       "      <td>20.5250</td>\n",
       "      <td>0</td>\n",
       "      <td>0</td>\n",
       "      <td>1</td>\n",
       "      <td>1</td>\n",
       "      <td>0</td>\n",
       "      <td>0</td>\n",
       "      <td>1</td>\n",
       "    </tr>\n",
       "    <tr>\n",
       "      <th>50</th>\n",
       "      <td>0</td>\n",
       "      <td>3</td>\n",
       "      <td>4</td>\n",
       "      <td>1</td>\n",
       "      <td>39.6875</td>\n",
       "      <td>0</td>\n",
       "      <td>0</td>\n",
       "      <td>1</td>\n",
       "      <td>1</td>\n",
       "      <td>0</td>\n",
       "      <td>0</td>\n",
       "      <td>0</td>\n",
       "    </tr>\n",
       "    <tr>\n",
       "      <th>259</th>\n",
       "      <td>1</td>\n",
       "      <td>2</td>\n",
       "      <td>0</td>\n",
       "      <td>1</td>\n",
       "      <td>26.0000</td>\n",
       "      <td>0</td>\n",
       "      <td>0</td>\n",
       "      <td>1</td>\n",
       "      <td>0</td>\n",
       "      <td>0</td>\n",
       "      <td>1</td>\n",
       "      <td>1</td>\n",
       "    </tr>\n",
       "    <tr>\n",
       "      <th>306</th>\n",
       "      <td>1</td>\n",
       "      <td>1</td>\n",
       "      <td>0</td>\n",
       "      <td>0</td>\n",
       "      <td>110.8833</td>\n",
       "      <td>1</td>\n",
       "      <td>0</td>\n",
       "      <td>0</td>\n",
       "      <td>0</td>\n",
       "      <td>0</td>\n",
       "      <td>1</td>\n",
       "      <td>1</td>\n",
       "    </tr>\n",
       "  </tbody>\n",
       "</table>\n",
       "</div>"
      ],
      "text/plain": [
       "     survived  pclass  sibsp  parch      fare  alone  Queenstown  Southampton  \\\n",
       "583         0       1      0      0   40.1250      1           0            0   \n",
       "165         1       3      0      2   20.5250      0           0            1   \n",
       "50          0       3      4      1   39.6875      0           0            1   \n",
       "259         1       2      0      1   26.0000      0           0            1   \n",
       "306         1       1      0      0  110.8833      1           0            0   \n",
       "\n",
       "     male  baseline  model1  model2  \n",
       "583     1         0       0       0  \n",
       "165     1         0       0       1  \n",
       "50      1         0       0       0  \n",
       "259     0         0       1       1  \n",
       "306     0         0       1       1  "
      ]
     },
     "execution_count": 35,
     "metadata": {},
     "output_type": "execute_result"
    }
   ],
   "source": [
    "train['model1'] = model1.predict(X_train)\n",
    "train.head()"
   ]
  },
  {
   "cell_type": "code",
   "execution_count": 36,
   "id": "555ba7fe",
   "metadata": {},
   "outputs": [],
   "source": [
    "y_pred = model1.predict(X_train)"
   ]
  },
  {
   "cell_type": "markdown",
   "id": "5e90b00b",
   "metadata": {},
   "source": [
    "3.) Evaluate your in-sample results using the model score, confusion matrix, and classification report."
   ]
  },
  {
   "cell_type": "code",
   "execution_count": 37,
   "id": "e0fc3e9a",
   "metadata": {},
   "outputs": [
    {
     "data": {
      "text/plain": [
       "0.7616822429906542"
      ]
     },
     "execution_count": 37,
     "metadata": {},
     "output_type": "execute_result"
    }
   ],
   "source": [
    "#using model score\n",
    "model1.score(X_validate,y_validate)"
   ]
  },
  {
   "cell_type": "code",
   "execution_count": 38,
   "id": "804539b0",
   "metadata": {},
   "outputs": [
    {
     "data": {
      "text/html": [
       "<div>\n",
       "<style scoped>\n",
       "    .dataframe tbody tr th:only-of-type {\n",
       "        vertical-align: middle;\n",
       "    }\n",
       "\n",
       "    .dataframe tbody tr th {\n",
       "        vertical-align: top;\n",
       "    }\n",
       "\n",
       "    .dataframe thead th {\n",
       "        text-align: right;\n",
       "    }\n",
       "</style>\n",
       "<table border=\"1\" class=\"dataframe\">\n",
       "  <thead>\n",
       "    <tr style=\"text-align: right;\">\n",
       "      <th></th>\n",
       "      <th>0</th>\n",
       "      <th>1</th>\n",
       "    </tr>\n",
       "  </thead>\n",
       "  <tbody>\n",
       "    <tr>\n",
       "      <th>0</th>\n",
       "      <td>265</td>\n",
       "      <td>42</td>\n",
       "    </tr>\n",
       "    <tr>\n",
       "      <th>1</th>\n",
       "      <td>58</td>\n",
       "      <td>133</td>\n",
       "    </tr>\n",
       "  </tbody>\n",
       "</table>\n",
       "</div>"
      ],
      "text/plain": [
       "     0    1\n",
       "0  265   42\n",
       "1   58  133"
      ]
     },
     "execution_count": 38,
     "metadata": {},
     "output_type": "execute_result"
    }
   ],
   "source": [
    "pd.DataFrame(confusion_matrix(y_train, y_pred))"
   ]
  },
  {
   "cell_type": "code",
   "execution_count": 39,
   "id": "8f3425b6",
   "metadata": {},
   "outputs": [
    {
     "name": "stdout",
     "output_type": "stream",
     "text": [
      "              precision    recall  f1-score   support\n",
      "\n",
      "           0       0.82      0.86      0.84       307\n",
      "           1       0.76      0.70      0.73       191\n",
      "\n",
      "    accuracy                           0.80       498\n",
      "   macro avg       0.79      0.78      0.78       498\n",
      "weighted avg       0.80      0.80      0.80       498\n",
      "\n"
     ]
    }
   ],
   "source": [
    "#classification report\n",
    "print(classification_report(y_train, y_pred))"
   ]
  },
  {
   "cell_type": "code",
   "execution_count": 40,
   "id": "08c237c5",
   "metadata": {},
   "outputs": [
    {
     "name": "stdout",
     "output_type": "stream",
     "text": [
      "Tree of 1 depth\n"
     ]
    },
    {
     "data": {
      "text/html": [
       "<div>\n",
       "<style scoped>\n",
       "    .dataframe tbody tr th:only-of-type {\n",
       "        vertical-align: middle;\n",
       "    }\n",
       "\n",
       "    .dataframe tbody tr th {\n",
       "        vertical-align: top;\n",
       "    }\n",
       "\n",
       "    .dataframe thead th {\n",
       "        text-align: right;\n",
       "    }\n",
       "</style>\n",
       "<table border=\"1\" class=\"dataframe\">\n",
       "  <thead>\n",
       "    <tr style=\"text-align: right;\">\n",
       "      <th></th>\n",
       "      <th>0</th>\n",
       "      <th>1</th>\n",
       "      <th>accuracy</th>\n",
       "      <th>macro avg</th>\n",
       "      <th>weighted avg</th>\n",
       "    </tr>\n",
       "  </thead>\n",
       "  <tbody>\n",
       "    <tr>\n",
       "      <th>precision</th>\n",
       "      <td>0.820433</td>\n",
       "      <td>0.760000</td>\n",
       "      <td>0.799197</td>\n",
       "      <td>0.790217</td>\n",
       "      <td>0.797255</td>\n",
       "    </tr>\n",
       "    <tr>\n",
       "      <th>recall</th>\n",
       "      <td>0.863192</td>\n",
       "      <td>0.696335</td>\n",
       "      <td>0.799197</td>\n",
       "      <td>0.779764</td>\n",
       "      <td>0.799197</td>\n",
       "    </tr>\n",
       "    <tr>\n",
       "      <th>f1-score</th>\n",
       "      <td>0.841270</td>\n",
       "      <td>0.726776</td>\n",
       "      <td>0.799197</td>\n",
       "      <td>0.784023</td>\n",
       "      <td>0.797358</td>\n",
       "    </tr>\n",
       "    <tr>\n",
       "      <th>support</th>\n",
       "      <td>307.000000</td>\n",
       "      <td>191.000000</td>\n",
       "      <td>0.799197</td>\n",
       "      <td>498.000000</td>\n",
       "      <td>498.000000</td>\n",
       "    </tr>\n",
       "  </tbody>\n",
       "</table>\n",
       "</div>"
      ],
      "text/plain": [
       "                    0           1  accuracy   macro avg  weighted avg\n",
       "precision    0.820433    0.760000  0.799197    0.790217      0.797255\n",
       "recall       0.863192    0.696335  0.799197    0.779764      0.799197\n",
       "f1-score     0.841270    0.726776  0.799197    0.784023      0.797358\n",
       "support    307.000000  191.000000  0.799197  498.000000    498.000000"
      ]
     },
     "execution_count": 40,
     "metadata": {},
     "output_type": "execute_result"
    }
   ],
   "source": [
    "report = classification_report(y_train, y_pred, output_dict=True)\n",
    "print(\"Tree of 1 depth\")\n",
    "pd.DataFrame(report)"
   ]
  },
  {
   "cell_type": "markdown",
   "id": "3296752e",
   "metadata": {},
   "source": [
    "4.) Compute: Accuracy, true positive rate, false positive rate, true negative rate, false negative rate, precision, recall, f1-score, and support."
   ]
  },
  {
   "cell_type": "code",
   "execution_count": null,
   "id": "170b032f",
   "metadata": {},
   "outputs": [],
   "source": [
    "# COnfusion Matrix will give me the values needed for TP, FP, TN, FN rates"
   ]
  },
  {
   "cell_type": "code",
   "execution_count": 44,
   "id": "a9727f5f",
   "metadata": {},
   "outputs": [
    {
     "name": "stdout",
     "output_type": "stream",
     "text": [
      " The accuracy is: 79.92%\n",
      " Confusion Matrix: \n",
      " [[265  42]\n",
      " [ 58 133]] \n",
      " \n",
      "Number of true negatives  (tn) =  265\n",
      "Number of true positives  (tp) =  133\n",
      "Number of false negatives (fn) =  58\n",
      "Number of false positives (fp) =  42\n",
      "\n",
      "What the confusion matrix tells us now, in more detail, is that we got 265\n",
      "of the people who did not survive right, and 133 of the people who did survive right.\n",
      "But also that we killed 58 of the passengers in our model,\n",
      "and brought 42 of them back to life through Necromancy!\n",
      " The precision is: 76.00%\n",
      " The recall rate is: 69.63%\n",
      " The F1 score is: 72.68%\n"
     ]
    }
   ],
   "source": [
    "#accuracy\n",
    "acc = sklearn.metrics.accuracy_score(y_train, y_pred)\n",
    "print(f' The accuracy is: {acc:.2%}')\n",
    "\n",
    "#Confusion Matrix for TP FP TN FN\n",
    "cm = confusion_matrix(y_train, y_pred)\n",
    "print(f' Confusion Matrix: \\n {cm} \\n ')\n",
    "\n",
    "titanic_cm = confusion_matrix(y_train, y_pred)\n",
    "titanic_cm\n",
    "\n",
    "tn, fp, fn, tp = titanic_cm.ravel()\n",
    "print(\"Number of true negatives  (tn) = \",tn)\n",
    "print(\"Number of true positives  (tp) = \",tp)\n",
    "print(\"Number of false negatives (fn) = \",fn)\n",
    "print(\"Number of false positives (fp) = \",fp)\n",
    "\n",
    "print(f\"\"\"\n",
    "What the confusion matrix tells us now, in more detail, is that we got {tn}\n",
    "of the people who did not survive right, and {tp} of the people who did survive right.\n",
    "But also that we killed {fn} of the passengers in our model,\n",
    "and brought {fp} of them back to life through Necromancy!\"\"\")\n",
    "#precision\n",
    "pre = sklearn.metrics.precision_score(y_train,y_pred)\n",
    "print(f' The precision is: {pre:.2%}')\n",
    "\n",
    "#recall\n",
    "rec = sklearn.metrics.recall_score(y_train,y_pred)\n",
    "print(f' The recall rate is: {rec:.2%}')\n",
    "\n",
    "#f1-score\n",
    "f1 = sklearn.metrics.f1_score(y_train,y_pred)\n",
    "print(f' The F1 score is: {f1:.2%}')\n",
    "\n",
    "#support\n",
    "\n",
    "#FP = confusion_matrix.sum(axis=0) - np.diag(confusion_matrix)  \n",
    "#FN = confusion_matrix.sum(axis=1) - np.diag(confusion_matrix)\n",
    "#TP = np.diag(confusion_matrix)\n",
    "#TN = confusion_matrix.sum() - (FP + FN + TP)\n",
    "#\n",
    "#print(FP, FN, TP, TN)"
   ]
  },
  {
   "cell_type": "markdown",
   "id": "f887ec9f",
   "metadata": {},
   "source": [
    "5.) Run through steps 2-4 using a different _depth value."
   ]
  },
  {
   "cell_type": "code",
   "execution_count": 45,
   "id": "e0520092",
   "metadata": {},
   "outputs": [
    {
     "name": "stdout",
     "output_type": "stream",
     "text": [
      "0.7523364485981309\n"
     ]
    },
    {
     "data": {
      "text/plain": [
       "[Text(161.878972303207, 210.645, 'X[7] <= 0.5\\ngini = 0.473\\nsamples = 498\\nvalue = [307, 191]'),\n",
       " Text(76.01326530612245, 197.055, 'X[0] <= 2.5\\ngini = 0.365\\nsamples = 175\\nvalue = [42, 133]'),\n",
       " Text(35.139358600583094, 183.465, 'X[3] <= 28.856\\ngini = 0.081\\nsamples = 94\\nvalue = [4, 90]'),\n",
       " Text(27.33061224489796, 169.875, 'X[3] <= 28.231\\ngini = 0.133\\nsamples = 42\\nvalue = [3, 39]'),\n",
       " Text(23.426239067055395, 156.285, 'X[2] <= 0.5\\ngini = 0.093\\nsamples = 41\\nvalue = [2, 39]'),\n",
       " Text(19.52186588921283, 142.695, 'X[1] <= 0.5\\ngini = 0.142\\nsamples = 26\\nvalue = [2, 24]'),\n",
       " Text(7.808746355685131, 129.10500000000002, 'X[3] <= 12.825\\ngini = 0.091\\nsamples = 21\\nvalue = [1, 20]'),\n",
       " Text(3.9043731778425657, 115.515, 'gini = 0.0\\nsamples = 7\\nvalue = [0, 7]'),\n",
       " Text(11.713119533527697, 115.515, 'X[3] <= 13.25\\ngini = 0.133\\nsamples = 14\\nvalue = [1, 13]'),\n",
       " Text(7.808746355685131, 101.925, 'gini = 0.245\\nsamples = 7\\nvalue = [1, 6]'),\n",
       " Text(15.617492711370263, 101.925, 'gini = 0.0\\nsamples = 7\\nvalue = [0, 7]'),\n",
       " Text(31.234985422740525, 129.10500000000002, 'X[3] <= 22.5\\ngini = 0.32\\nsamples = 5\\nvalue = [1, 4]'),\n",
       " Text(27.33061224489796, 115.515, 'X[6] <= 0.5\\ngini = 0.5\\nsamples = 2\\nvalue = [1, 1]'),\n",
       " Text(23.426239067055395, 101.925, 'gini = 0.0\\nsamples = 1\\nvalue = [0, 1]'),\n",
       " Text(31.234985422740525, 101.925, 'gini = 0.0\\nsamples = 1\\nvalue = [1, 0]'),\n",
       " Text(35.139358600583094, 115.515, 'gini = 0.0\\nsamples = 3\\nvalue = [0, 3]'),\n",
       " Text(27.33061224489796, 142.695, 'gini = 0.0\\nsamples = 15\\nvalue = [0, 15]'),\n",
       " Text(31.234985422740525, 156.285, 'gini = 0.0\\nsamples = 1\\nvalue = [1, 0]'),\n",
       " Text(42.948104956268224, 169.875, 'X[2] <= 1.5\\ngini = 0.038\\nsamples = 52\\nvalue = [1, 51]'),\n",
       " Text(39.04373177842566, 156.285, 'gini = 0.0\\nsamples = 48\\nvalue = [0, 48]'),\n",
       " Text(46.85247813411079, 156.285, 'X[6] <= 0.5\\ngini = 0.375\\nsamples = 4\\nvalue = [1, 3]'),\n",
       " Text(42.948104956268224, 142.695, 'gini = 0.0\\nsamples = 3\\nvalue = [0, 3]'),\n",
       " Text(50.756851311953355, 142.695, 'gini = 0.0\\nsamples = 1\\nvalue = [1, 0]'),\n",
       " Text(116.8871720116618, 183.465, 'X[3] <= 23.912\\ngini = 0.498\\nsamples = 81\\nvalue = [38, 43]'),\n",
       " Text(97.12128279883382, 169.875, 'X[5] <= 0.5\\ngini = 0.476\\nsamples = 69\\nvalue = [27, 42]'),\n",
       " Text(69.30262390670553, 156.285, 'X[3] <= 7.523\\ngini = 0.498\\nsamples = 49\\nvalue = [23, 26]'),\n",
       " Text(65.39825072886298, 142.695, 'gini = 0.0\\nsamples = 4\\nvalue = [0, 4]'),\n",
       " Text(73.2069970845481, 142.695, 'X[3] <= 15.494\\ngini = 0.5\\nsamples = 45\\nvalue = [23, 22]'),\n",
       " Text(56.6134110787172, 129.10500000000002, 'X[3] <= 13.438\\ngini = 0.471\\nsamples = 29\\nvalue = [18, 11]'),\n",
       " Text(52.709037900874634, 115.515, 'X[3] <= 8.673\\ngini = 0.5\\nsamples = 22\\nvalue = [11, 11]'),\n",
       " Text(39.04373177842566, 101.925, 'X[3] <= 7.7\\ngini = 0.375\\nsamples = 12\\nvalue = [9, 3]'),\n",
       " Text(31.234985422740525, 88.33500000000001, 'X[3] <= 7.6\\ngini = 0.444\\nsamples = 3\\nvalue = [1, 2]'),\n",
       " Text(27.33061224489796, 74.745, 'gini = 0.5\\nsamples = 2\\nvalue = [1, 1]'),\n",
       " Text(35.139358600583094, 74.745, 'gini = 0.0\\nsamples = 1\\nvalue = [0, 1]'),\n",
       " Text(46.85247813411079, 88.33500000000001, 'X[3] <= 7.875\\ngini = 0.198\\nsamples = 9\\nvalue = [8, 1]'),\n",
       " Text(42.948104956268224, 74.745, 'X[3] <= 7.815\\ngini = 0.375\\nsamples = 4\\nvalue = [3, 1]'),\n",
       " Text(39.04373177842566, 61.155, 'gini = 0.0\\nsamples = 3\\nvalue = [3, 0]'),\n",
       " Text(46.85247813411079, 61.155, 'gini = 0.0\\nsamples = 1\\nvalue = [0, 1]'),\n",
       " Text(50.756851311953355, 74.745, 'gini = 0.0\\nsamples = 5\\nvalue = [5, 0]'),\n",
       " Text(66.37434402332362, 101.925, 'X[3] <= 9.715\\ngini = 0.32\\nsamples = 10\\nvalue = [2, 8]'),\n",
       " Text(62.46997084548105, 88.33500000000001, 'X[3] <= 9.413\\ngini = 0.48\\nsamples = 5\\nvalue = [2, 3]'),\n",
       " Text(58.565597667638485, 74.745, 'gini = 0.0\\nsamples = 2\\nvalue = [0, 2]'),\n",
       " Text(66.37434402332362, 74.745, 'X[3] <= 9.531\\ngini = 0.444\\nsamples = 3\\nvalue = [2, 1]'),\n",
       " Text(62.46997084548105, 61.155, 'gini = 0.0\\nsamples = 1\\nvalue = [1, 0]'),\n",
       " Text(70.27871720116619, 61.155, 'gini = 0.5\\nsamples = 2\\nvalue = [1, 1]'),\n",
       " Text(70.27871720116619, 88.33500000000001, 'gini = 0.0\\nsamples = 5\\nvalue = [0, 5]'),\n",
       " Text(60.517784256559764, 115.515, 'gini = 0.0\\nsamples = 7\\nvalue = [7, 0]'),\n",
       " Text(89.800583090379, 129.10500000000002, 'X[6] <= 0.5\\ngini = 0.43\\nsamples = 16\\nvalue = [5, 11]'),\n",
       " Text(85.89620991253645, 115.515, 'gini = 0.0\\nsamples = 5\\nvalue = [0, 5]'),\n",
       " Text(93.70495626822158, 115.515, 'X[3] <= 17.35\\ngini = 0.496\\nsamples = 11\\nvalue = [5, 6]'),\n",
       " Text(81.99183673469388, 101.925, 'X[3] <= 15.975\\ngini = 0.32\\nsamples = 5\\nvalue = [1, 4]'),\n",
       " Text(78.08746355685132, 88.33500000000001, 'gini = 0.0\\nsamples = 2\\nvalue = [0, 2]'),\n",
       " Text(85.89620991253645, 88.33500000000001, 'X[3] <= 16.4\\ngini = 0.444\\nsamples = 3\\nvalue = [1, 2]'),\n",
       " Text(81.99183673469388, 74.745, 'gini = 0.5\\nsamples = 2\\nvalue = [1, 1]'),\n",
       " Text(89.800583090379, 74.745, 'gini = 0.0\\nsamples = 1\\nvalue = [0, 1]'),\n",
       " Text(105.41807580174927, 101.925, 'X[3] <= 21.55\\ngini = 0.444\\nsamples = 6\\nvalue = [4, 2]'),\n",
       " Text(101.51370262390671, 88.33500000000001, 'X[1] <= 0.5\\ngini = 0.32\\nsamples = 5\\nvalue = [4, 1]'),\n",
       " Text(97.60932944606414, 74.745, 'gini = 0.0\\nsamples = 2\\nvalue = [2, 0]'),\n",
       " Text(105.41807580174927, 74.745, 'X[1] <= 1.5\\ngini = 0.444\\nsamples = 3\\nvalue = [2, 1]'),\n",
       " Text(101.51370262390671, 61.155, 'gini = 0.0\\nsamples = 1\\nvalue = [0, 1]'),\n",
       " Text(109.32244897959184, 61.155, 'gini = 0.0\\nsamples = 2\\nvalue = [2, 0]'),\n",
       " Text(109.32244897959184, 88.33500000000001, 'gini = 0.0\\nsamples = 1\\nvalue = [0, 1]'),\n",
       " Text(124.9399416909621, 156.285, 'X[3] <= 7.681\\ngini = 0.32\\nsamples = 20\\nvalue = [4, 16]'),\n",
       " Text(121.03556851311953, 142.695, 'gini = 0.0\\nsamples = 2\\nvalue = [2, 0]'),\n",
       " Text(128.84431486880467, 142.695, 'X[3] <= 8.083\\ngini = 0.198\\nsamples = 18\\nvalue = [2, 16]'),\n",
       " Text(121.03556851311953, 129.10500000000002, 'X[3] <= 7.769\\ngini = 0.124\\nsamples = 15\\nvalue = [1, 14]'),\n",
       " Text(117.13119533527697, 115.515, 'X[3] <= 7.744\\ngini = 0.18\\nsamples = 10\\nvalue = [1, 9]'),\n",
       " Text(113.2268221574344, 101.925, 'gini = 0.0\\nsamples = 2\\nvalue = [0, 2]'),\n",
       " Text(121.03556851311953, 101.925, 'gini = 0.219\\nsamples = 8\\nvalue = [1, 7]'),\n",
       " Text(124.9399416909621, 115.515, 'gini = 0.0\\nsamples = 5\\nvalue = [0, 5]'),\n",
       " Text(136.6530612244898, 129.10500000000002, 'X[1] <= 0.5\\ngini = 0.444\\nsamples = 3\\nvalue = [1, 2]'),\n",
       " Text(132.74868804664723, 115.515, 'gini = 0.0\\nsamples = 1\\nvalue = [1, 0]'),\n",
       " Text(140.55743440233238, 115.515, 'gini = 0.0\\nsamples = 2\\nvalue = [0, 2]'),\n",
       " Text(136.6530612244898, 169.875, 'X[2] <= 4.0\\ngini = 0.153\\nsamples = 12\\nvalue = [11, 1]'),\n",
       " Text(132.74868804664723, 156.285, 'gini = 0.0\\nsamples = 10\\nvalue = [10, 0]'),\n",
       " Text(140.55743440233238, 156.285, 'X[3] <= 35.538\\ngini = 0.5\\nsamples = 2\\nvalue = [1, 1]'),\n",
       " Text(136.6530612244898, 142.695, 'gini = 0.0\\nsamples = 1\\nvalue = [0, 1]'),\n",
       " Text(144.46180758017493, 142.695, 'gini = 0.0\\nsamples = 1\\nvalue = [1, 0]'),\n",
       " Text(247.74467930029155, 197.055, 'X[3] <= 18.275\\ngini = 0.295\\nsamples = 323\\nvalue = [265, 58]'),\n",
       " Text(209.00597667638485, 183.465, 'X[2] <= 0.5\\ngini = 0.184\\nsamples = 205\\nvalue = [184, 21]'),\n",
       " Text(196.4387755102041, 169.875, 'X[3] <= 13.25\\ngini = 0.173\\nsamples = 199\\nvalue = [180, 19]'),\n",
       " Text(192.5344023323615, 156.285, 'X[3] <= 12.637\\ngini = 0.184\\nsamples = 185\\nvalue = [166, 19]'),\n",
       " Text(188.63002915451895, 142.695, 'X[1] <= 0.5\\ngini = 0.164\\nsamples = 166\\nvalue = [151, 15]'),\n",
       " Text(167.4, 129.10500000000002, 'X[3] <= 8.081\\ngini = 0.151\\nsamples = 158\\nvalue = [145, 13]'),\n",
       " Text(148.3661807580175, 115.515, 'X[3] <= 7.24\\ngini = 0.134\\nsamples = 125\\nvalue = [116, 9]'),\n",
       " Text(139.5813411078717, 101.925, 'X[3] <= 7.227\\ngini = 0.202\\nsamples = 35\\nvalue = [31, 4]'),\n",
       " Text(135.67696793002915, 88.33500000000001, 'X[3] <= 7.013\\ngini = 0.137\\nsamples = 27\\nvalue = [25, 2]'),\n",
       " Text(131.7725947521866, 74.745, 'X[3] <= 6.917\\ngini = 0.231\\nsamples = 15\\nvalue = [13, 2]'),\n",
       " Text(127.86822157434402, 61.155, 'X[0] <= 2.5\\ngini = 0.142\\nsamples = 13\\nvalue = [12, 1]'),\n",
       " Text(123.96384839650146, 47.565, 'gini = 0.0\\nsamples = 5\\nvalue = [5, 0]'),\n",
       " Text(131.7725947521866, 47.565, 'X[3] <= 3.219\\ngini = 0.219\\nsamples = 8\\nvalue = [7, 1]'),\n",
       " Text(127.86822157434402, 33.974999999999994, 'gini = 0.444\\nsamples = 3\\nvalue = [2, 1]'),\n",
       " Text(135.67696793002915, 33.974999999999994, 'gini = 0.0\\nsamples = 5\\nvalue = [5, 0]'),\n",
       " Text(135.67696793002915, 61.155, 'gini = 0.5\\nsamples = 2\\nvalue = [1, 1]'),\n",
       " Text(139.5813411078717, 74.745, 'gini = 0.0\\nsamples = 12\\nvalue = [12, 0]'),\n",
       " Text(143.4857142857143, 88.33500000000001, 'gini = 0.375\\nsamples = 8\\nvalue = [6, 2]'),\n",
       " Text(157.15102040816328, 101.925, 'X[3] <= 7.746\\ngini = 0.105\\nsamples = 90\\nvalue = [85, 5]'),\n",
       " Text(153.2466472303207, 88.33500000000001, 'gini = 0.0\\nsamples = 14\\nvalue = [14, 0]'),\n",
       " Text(161.05539358600583, 88.33500000000001, 'X[3] <= 7.871\\ngini = 0.123\\nsamples = 76\\nvalue = [71, 5]'),\n",
       " Text(151.2944606413994, 74.745, 'X[3] <= 7.785\\ngini = 0.204\\nsamples = 26\\nvalue = [23, 3]'),\n",
       " Text(143.4857142857143, 61.155, 'X[5] <= 0.5\\ngini = 0.117\\nsamples = 16\\nvalue = [15, 1]'),\n",
       " Text(139.5813411078717, 47.565, 'gini = 0.0\\nsamples = 7\\nvalue = [7, 0]'),\n",
       " Text(147.39008746355685, 47.565, 'gini = 0.198\\nsamples = 9\\nvalue = [8, 1]'),\n",
       " Text(159.10320699708456, 61.155, 'X[6] <= 0.5\\ngini = 0.32\\nsamples = 10\\nvalue = [8, 2]'),\n",
       " Text(155.198833819242, 47.565, 'gini = 0.0\\nsamples = 1\\nvalue = [1, 0]'),\n",
       " Text(163.0075801749271, 47.565, 'X[3] <= 7.798\\ngini = 0.346\\nsamples = 9\\nvalue = [7, 2]'),\n",
       " Text(159.10320699708456, 33.974999999999994, 'gini = 0.375\\nsamples = 4\\nvalue = [3, 1]'),\n",
       " Text(166.91195335276967, 33.974999999999994, 'X[3] <= 7.827\\ngini = 0.32\\nsamples = 5\\nvalue = [4, 1]'),\n",
       " Text(163.0075801749271, 20.38499999999999, 'gini = 0.0\\nsamples = 1\\nvalue = [1, 0]'),\n",
       " Text(170.81632653061226, 20.38499999999999, 'gini = 0.375\\nsamples = 4\\nvalue = [3, 1]'),\n",
       " Text(170.81632653061226, 74.745, 'X[3] <= 7.91\\ngini = 0.077\\nsamples = 50\\nvalue = [48, 2]'),\n",
       " Text(166.91195335276967, 61.155, 'gini = 0.0\\nsamples = 23\\nvalue = [23, 0]'),\n",
       " Text(174.72069970845482, 61.155, 'X[3] <= 7.988\\ngini = 0.137\\nsamples = 27\\nvalue = [25, 2]'),\n",
       " Text(170.81632653061226, 47.565, 'gini = 0.375\\nsamples = 4\\nvalue = [3, 1]'),\n",
       " Text(178.62507288629737, 47.565, 'gini = 0.083\\nsamples = 23\\nvalue = [22, 1]'),\n",
       " Text(186.43381924198252, 115.515, 'X[3] <= 8.135\\ngini = 0.213\\nsamples = 33\\nvalue = [29, 4]'),\n",
       " Text(182.52944606413993, 101.925, 'gini = 0.0\\nsamples = 1\\nvalue = [0, 1]'),\n",
       " Text(190.33819241982508, 101.925, 'X[3] <= 8.658\\ngini = 0.17\\nsamples = 32\\nvalue = [29, 3]'),\n",
       " Text(186.43381924198252, 88.33500000000001, 'gini = 0.0\\nsamples = 4\\nvalue = [4, 0]'),\n",
       " Text(194.24256559766764, 88.33500000000001, 'X[3] <= 8.688\\ngini = 0.191\\nsamples = 28\\nvalue = [25, 3]'),\n",
       " Text(186.43381924198252, 74.745, 'X[6] <= 0.5\\ngini = 0.278\\nsamples = 6\\nvalue = [5, 1]'),\n",
       " Text(182.52944606413993, 61.155, 'gini = 0.0\\nsamples = 1\\nvalue = [1, 0]'),\n",
       " Text(190.33819241982508, 61.155, 'gini = 0.32\\nsamples = 5\\nvalue = [4, 1]'),\n",
       " Text(202.05131195335278, 74.745, 'X[3] <= 9.363\\ngini = 0.165\\nsamples = 22\\nvalue = [20, 2]'),\n",
       " Text(198.1469387755102, 61.155, 'gini = 0.0\\nsamples = 3\\nvalue = [3, 0]'),\n",
       " Text(205.95568513119534, 61.155, 'X[3] <= 11.0\\ngini = 0.188\\nsamples = 19\\nvalue = [17, 2]'),\n",
       " Text(202.05131195335278, 47.565, 'X[3] <= 9.673\\ngini = 0.208\\nsamples = 17\\nvalue = [15, 2]'),\n",
       " Text(198.1469387755102, 33.974999999999994, 'gini = 0.245\\nsamples = 7\\nvalue = [6, 1]'),\n",
       " Text(205.95568513119534, 33.974999999999994, 'X[3] <= 10.173\\ngini = 0.18\\nsamples = 10\\nvalue = [9, 1]'),\n",
       " Text(202.05131195335278, 20.38499999999999, 'gini = 0.0\\nsamples = 1\\nvalue = [1, 0]'),\n",
       " Text(209.8600583090379, 20.38499999999999, 'gini = 0.198\\nsamples = 9\\nvalue = [8, 1]'),\n",
       " Text(209.8600583090379, 47.565, 'gini = 0.0\\nsamples = 2\\nvalue = [2, 0]'),\n",
       " Text(209.8600583090379, 129.10500000000002, 'X[1] <= 1.5\\ngini = 0.375\\nsamples = 8\\nvalue = [6, 2]'),\n",
       " Text(205.95568513119534, 115.515, 'X[3] <= 7.513\\ngini = 0.48\\nsamples = 5\\nvalue = [3, 2]'),\n",
       " Text(202.05131195335278, 101.925, 'gini = 0.0\\nsamples = 1\\nvalue = [1, 0]'),\n",
       " Text(209.8600583090379, 101.925, 'X[3] <= 7.815\\ngini = 0.5\\nsamples = 4\\nvalue = [2, 2]'),\n",
       " Text(205.95568513119534, 88.33500000000001, 'gini = 0.0\\nsamples = 1\\nvalue = [0, 1]'),\n",
       " Text(213.76443148688048, 88.33500000000001, 'X[3] <= 7.89\\ngini = 0.444\\nsamples = 3\\nvalue = [2, 1]'),\n",
       " Text(209.8600583090379, 74.745, 'gini = 0.0\\nsamples = 1\\nvalue = [1, 0]'),\n",
       " Text(217.66880466472304, 74.745, 'X[3] <= 9.713\\ngini = 0.5\\nsamples = 2\\nvalue = [1, 1]'),\n",
       " Text(213.76443148688048, 61.155, 'gini = 0.0\\nsamples = 1\\nvalue = [0, 1]'),\n",
       " Text(221.5731778425656, 61.155, 'gini = 0.0\\nsamples = 1\\nvalue = [1, 0]'),\n",
       " Text(213.76443148688048, 115.515, 'gini = 0.0\\nsamples = 3\\nvalue = [3, 0]'),\n",
       " Text(196.4387755102041, 142.695, 'gini = 0.332\\nsamples = 19\\nvalue = [15, 4]'),\n",
       " Text(200.34314868804665, 156.285, 'gini = 0.0\\nsamples = 14\\nvalue = [14, 0]'),\n",
       " Text(221.5731778425656, 169.875, 'X[3] <= 15.0\\ngini = 0.444\\nsamples = 6\\nvalue = [4, 2]'),\n",
       " Text(217.66880466472304, 156.285, 'X[1] <= 0.5\\ngini = 0.5\\nsamples = 4\\nvalue = [2, 2]'),\n",
       " Text(213.76443148688048, 142.695, 'gini = 0.0\\nsamples = 1\\nvalue = [0, 1]'),\n",
       " Text(221.5731778425656, 142.695, 'X[3] <= 13.0\\ngini = 0.444\\nsamples = 3\\nvalue = [2, 1]'),\n",
       " Text(217.66880466472304, 129.10500000000002, 'gini = 0.0\\nsamples = 2\\nvalue = [2, 0]'),\n",
       " Text(225.47755102040816, 129.10500000000002, 'gini = 0.0\\nsamples = 1\\nvalue = [0, 1]'),\n",
       " Text(225.47755102040816, 156.285, 'gini = 0.0\\nsamples = 2\\nvalue = [2, 0]'),\n",
       " Text(286.4833819241982, 183.465, 'X[3] <= 19.637\\ngini = 0.43\\nsamples = 118\\nvalue = [81, 37]'),\n",
       " Text(282.57900874635567, 169.875, 'gini = 0.0\\nsamples = 2\\nvalue = [0, 2]'),\n",
       " Text(290.38775510204084, 169.875, 'X[1] <= 2.5\\ngini = 0.421\\nsamples = 116\\nvalue = [81, 35]'),\n",
       " Text(267.44956268221574, 156.285, 'X[3] <= 26.269\\ngini = 0.444\\nsamples = 102\\nvalue = [68, 34]'),\n",
       " Text(241.09504373177842, 142.695, 'X[4] <= 0.5\\ngini = 0.287\\nsamples = 23\\nvalue = [19, 4]'),\n",
       " Text(237.19067055393586, 129.10500000000002, 'X[5] <= 0.5\\ngini = 0.391\\nsamples = 15\\nvalue = [11, 4]'),\n",
       " Text(233.2862973760933, 115.515, 'X[1] <= 0.5\\ngini = 0.337\\nsamples = 14\\nvalue = [11, 3]'),\n",
       " Text(225.47755102040816, 101.925, 'X[3] <= 23.262\\ngini = 0.5\\nsamples = 2\\nvalue = [1, 1]'),\n",
       " Text(221.5731778425656, 88.33500000000001, 'gini = 0.0\\nsamples = 1\\nvalue = [0, 1]'),\n",
       " Text(229.38192419825074, 88.33500000000001, 'gini = 0.0\\nsamples = 1\\nvalue = [1, 0]'),\n",
       " Text(241.09504373177842, 101.925, 'X[3] <= 25.075\\ngini = 0.278\\nsamples = 12\\nvalue = [10, 2]'),\n",
       " Text(237.19067055393586, 88.33500000000001, 'gini = 0.0\\nsamples = 6\\nvalue = [6, 0]'),\n",
       " Text(244.999416909621, 88.33500000000001, 'X[3] <= 26.125\\ngini = 0.444\\nsamples = 6\\nvalue = [4, 2]'),\n",
       " Text(241.09504373177842, 74.745, 'X[2] <= 0.5\\ngini = 0.48\\nsamples = 5\\nvalue = [3, 2]'),\n",
       " Text(237.19067055393586, 61.155, 'gini = 0.375\\nsamples = 4\\nvalue = [3, 1]'),\n",
       " Text(244.999416909621, 61.155, 'gini = 0.0\\nsamples = 1\\nvalue = [0, 1]'),\n",
       " Text(248.90379008746356, 74.745, 'gini = 0.0\\nsamples = 1\\nvalue = [1, 0]'),\n",
       " Text(241.09504373177842, 115.515, 'gini = 0.0\\nsamples = 1\\nvalue = [0, 1]'),\n",
       " Text(244.999416909621, 129.10500000000002, 'gini = 0.0\\nsamples = 8\\nvalue = [8, 0]'),\n",
       " Text(293.80408163265304, 142.695, 'X[3] <= 26.469\\ngini = 0.471\\nsamples = 79\\nvalue = [49, 30]'),\n",
       " Text(289.8997084548105, 129.10500000000002, 'gini = 0.0\\nsamples = 3\\nvalue = [0, 3]'),\n",
       " Text(297.70845481049565, 129.10500000000002, 'X[3] <= 64.979\\ngini = 0.458\\nsamples = 76\\nvalue = [49, 27]'),\n",
       " Text(276.2344023323615, 115.515, 'X[3] <= 51.248\\ngini = 0.488\\nsamples = 52\\nvalue = [30, 22]'),\n",
       " Text(268.4256559766764, 101.925, 'X[3] <= 39.3\\ngini = 0.433\\nsamples = 41\\nvalue = [28, 13]'),\n",
       " Text(264.5212827988338, 88.33500000000001, 'X[3] <= 35.077\\ngini = 0.467\\nsamples = 35\\nvalue = [22, 13]'),\n",
       " Text(256.7125364431487, 74.745, 'X[3] <= 31.137\\ngini = 0.42\\nsamples = 30\\nvalue = [21, 9]'),\n",
       " Text(252.80816326530612, 61.155, 'X[3] <= 29.85\\ngini = 0.476\\nsamples = 23\\nvalue = [14, 9]'),\n",
       " Text(241.09504373177842, 47.565, 'X[3] <= 26.775\\ngini = 0.391\\nsamples = 15\\nvalue = [11, 4]'),\n",
       " Text(237.19067055393586, 33.974999999999994, 'gini = 0.494\\nsamples = 9\\nvalue = [5, 4]'),\n",
       " Text(244.999416909621, 33.974999999999994, 'gini = 0.0\\nsamples = 6\\nvalue = [6, 0]'),\n",
       " Text(264.5212827988338, 47.565, 'X[3] <= 30.598\\ngini = 0.469\\nsamples = 8\\nvalue = [3, 5]'),\n",
       " Text(252.80816326530612, 33.974999999999994, 'X[6] <= 0.5\\ngini = 0.32\\nsamples = 5\\nvalue = [1, 4]'),\n",
       " Text(248.90379008746356, 20.38499999999999, 'gini = 0.0\\nsamples = 2\\nvalue = [0, 2]'),\n",
       " Text(256.7125364431487, 20.38499999999999, 'X[3] <= 30.25\\ngini = 0.444\\nsamples = 3\\nvalue = [1, 2]'),\n",
       " Text(252.80816326530612, 6.7949999999999875, 'gini = 0.0\\nsamples = 1\\nvalue = [0, 1]'),\n",
       " Text(260.61690962099124, 6.7949999999999875, 'gini = 0.5\\nsamples = 2\\nvalue = [1, 1]'),\n",
       " Text(276.2344023323615, 33.974999999999994, 'X[6] <= 0.5\\ngini = 0.444\\nsamples = 3\\nvalue = [2, 1]'),\n",
       " Text(272.33002915451897, 20.38499999999999, 'X[3] <= 30.848\\ngini = 0.5\\nsamples = 2\\nvalue = [1, 1]'),\n",
       " Text(268.4256559766764, 6.7949999999999875, 'gini = 0.0\\nsamples = 1\\nvalue = [1, 0]'),\n",
       " Text(276.2344023323615, 6.7949999999999875, 'gini = 0.0\\nsamples = 1\\nvalue = [0, 1]'),\n",
       " Text(280.1387755102041, 20.38499999999999, 'gini = 0.0\\nsamples = 1\\nvalue = [1, 0]'),\n",
       " Text(260.61690962099124, 61.155, 'gini = 0.0\\nsamples = 7\\nvalue = [7, 0]'),\n",
       " Text(272.33002915451897, 74.745, 'X[1] <= 0.5\\ngini = 0.32\\nsamples = 5\\nvalue = [1, 4]'),\n",
       " Text(268.4256559766764, 61.155, 'gini = 0.0\\nsamples = 3\\nvalue = [0, 3]'),\n",
       " Text(276.2344023323615, 61.155, 'X[3] <= 37.875\\ngini = 0.5\\nsamples = 2\\nvalue = [1, 1]'),\n",
       " Text(272.33002915451897, 47.565, 'gini = 0.0\\nsamples = 1\\nvalue = [1, 0]'),\n",
       " Text(280.1387755102041, 47.565, 'gini = 0.0\\nsamples = 1\\nvalue = [0, 1]'),\n",
       " Text(272.33002915451897, 88.33500000000001, 'gini = 0.0\\nsamples = 6\\nvalue = [6, 0]'),\n",
       " Text(284.04314868804664, 101.925, 'X[3] <= 58.835\\ngini = 0.298\\nsamples = 11\\nvalue = [2, 9]'),\n",
       " Text(280.1387755102041, 88.33500000000001, 'gini = 0.0\\nsamples = 8\\nvalue = [0, 8]'),\n",
       " Text(287.9475218658892, 88.33500000000001, 'X[3] <= 62.369\\ngini = 0.444\\nsamples = 3\\nvalue = [2, 1]'),\n",
       " Text(284.04314868804664, 74.745, 'gini = 0.0\\nsamples = 2\\nvalue = [2, 0]'),\n",
       " Text(291.85189504373176, 74.745, 'gini = 0.0\\nsamples = 1\\nvalue = [0, 1]'),\n",
       " Text(319.1825072886297, 115.515, 'X[6] <= 0.5\\ngini = 0.33\\nsamples = 24\\nvalue = [19, 5]'),\n",
       " Text(315.27813411078716, 101.925, 'X[3] <= 99.99\\ngini = 0.459\\nsamples = 14\\nvalue = [9, 5]'),\n",
       " Text(303.5650145772595, 88.33500000000001, 'X[1] <= 1.5\\ngini = 0.48\\nsamples = 5\\nvalue = [2, 3]'),\n",
       " Text(299.66064139941693, 74.745, 'X[4] <= 0.5\\ngini = 0.375\\nsamples = 4\\nvalue = [1, 3]'),\n",
       " Text(295.7562682215744, 61.155, 'gini = 0.0\\nsamples = 2\\nvalue = [0, 2]'),\n",
       " Text(303.5650145772595, 61.155, 'X[3] <= 77.965\\ngini = 0.5\\nsamples = 2\\nvalue = [1, 1]'),\n",
       " Text(299.66064139941693, 47.565, 'gini = 0.0\\nsamples = 1\\nvalue = [0, 1]'),\n",
       " Text(307.46938775510205, 47.565, 'gini = 0.0\\nsamples = 1\\nvalue = [1, 0]'),\n",
       " Text(307.46938775510205, 74.745, 'gini = 0.0\\nsamples = 1\\nvalue = [1, 0]'),\n",
       " Text(326.9912536443149, 88.33500000000001, 'X[3] <= 379.925\\ngini = 0.346\\nsamples = 9\\nvalue = [7, 2]'),\n",
       " Text(323.0868804664723, 74.745, 'X[3] <= 112.079\\ngini = 0.219\\nsamples = 8\\nvalue = [7, 1]'),\n",
       " Text(319.1825072886297, 61.155, 'X[2] <= 1.5\\ngini = 0.444\\nsamples = 3\\nvalue = [2, 1]'),\n",
       " Text(315.27813411078716, 47.565, 'gini = 0.0\\nsamples = 2\\nvalue = [2, 0]'),\n",
       " Text(323.0868804664723, 47.565, 'gini = 0.0\\nsamples = 1\\nvalue = [0, 1]'),\n",
       " Text(326.9912536443149, 61.155, 'gini = 0.0\\nsamples = 5\\nvalue = [5, 0]'),\n",
       " Text(330.89562682215745, 74.745, 'gini = 0.0\\nsamples = 1\\nvalue = [0, 1]'),\n",
       " Text(323.0868804664723, 101.925, 'gini = 0.0\\nsamples = 10\\nvalue = [10, 0]'),\n",
       " Text(313.3259475218659, 156.285, 'X[3] <= 35.538\\ngini = 0.133\\nsamples = 14\\nvalue = [13, 1]'),\n",
       " Text(309.4215743440233, 142.695, 'X[3] <= 30.256\\ngini = 0.278\\nsamples = 6\\nvalue = [5, 1]'),\n",
       " Text(305.51720116618077, 129.10500000000002, 'gini = 0.0\\nsamples = 5\\nvalue = [5, 0]'),\n",
       " Text(313.3259475218659, 129.10500000000002, 'gini = 0.0\\nsamples = 1\\nvalue = [0, 1]'),\n",
       " Text(317.23032069970844, 142.695, 'gini = 0.0\\nsamples = 8\\nvalue = [8, 0]')]"
      ]
     },
     "execution_count": 45,
     "metadata": {},
     "output_type": "execute_result"
    },
    {
     "data": {
      "image/png": "[encoded data removed]",
      "text/plain": [
       "<Figure size 432x288 with 1 Axes>"
      ]
     },
     "metadata": {
      "needs_background": "light"
     },
     "output_type": "display_data"
    }
   ],
   "source": [
    "model2 = DecisionTreeClassifier(max_depth = 30)\n",
    "model2.fit(X_train, y_train)\n",
    "print(model2.score(X_validate,y_validate))\n",
    "plot_tree(model2)"
   ]
  },
  {
   "cell_type": "code",
   "execution_count": 46,
   "id": "e3cf6b48",
   "metadata": {},
   "outputs": [
    {
     "name": "stdout",
     "output_type": "stream",
     "text": [
      "training score: 94.58%\n",
      "validate score: 75.23%\n"
     ]
    }
   ],
   "source": [
    "print(f'training score: {model2.score(X_train, y_train):.2%}')\n",
    "print(f'validate score: {model2.score(X_validate, y_validate):.2%}')"
   ]
  },
  {
   "cell_type": "code",
   "execution_count": 47,
   "id": "403dcdf9",
   "metadata": {},
   "outputs": [
    {
     "name": "stdout",
     "output_type": "stream",
     "text": [
      "col_0       0    1\n",
      "survived          \n",
      "0         305    2\n",
      "1          25  166\n"
     ]
    }
   ],
   "source": [
    "train['model2'] = model2.predict(X_train)\n",
    "train.head()\n",
    "y_pred2 = model2.predict(X_train)\n",
    "print(f'{pd.crosstab(y_train, y_pred2)}')"
   ]
  },
  {
   "cell_type": "code",
   "execution_count": 49,
   "id": "d8d670a9",
   "metadata": {},
   "outputs": [
    {
     "name": "stdout",
     "output_type": "stream",
     "text": [
      "              precision    recall  f1-score   support\n",
      "\n",
      "           0       0.92      0.99      0.96       307\n",
      "           1       0.99      0.87      0.92       191\n",
      "\n",
      "    accuracy                           0.95       498\n",
      "   macro avg       0.96      0.93      0.94       498\n",
      "weighted avg       0.95      0.95      0.95       498\n",
      "\n",
      " The accuracy is: 94.58%\n",
      " Confusion Matrix: \n",
      " [[305   2]\n",
      " [ 25 166]] \n",
      " \n",
      "Number of true negatives  (tn) =  305\n",
      "Number of true positives  (tp) =  166\n",
      "Number of false negatives (fn) =  25\n",
      "Number of false positives (fp) =  2\n",
      "\n",
      "What the confusion matrix tells us now, in more detail, is that we got 265\n",
      "of the people who did not survive right, and 133 of the people who did survive right.\n",
      "But also that we killed 58 of the passengers in our model,\n",
      "and brought 42 of them back to life through Necromancy!\n",
      " The precision is: 98.81%\n",
      " The recall rate is: 86.91%\n",
      " The F1 score is: 92.48%\n"
     ]
    }
   ],
   "source": [
    "print(classification_report(y_train, y_pred2))\n",
    "\n",
    "#accuracy\n",
    "acc2 = sklearn.metrics.accuracy_score(y_train, y_pred2)\n",
    "print(f' The accuracy is: {acc2:.2%}')\n",
    "\n",
    "#Confusion Matrix for TP FP TN FN\n",
    "cm2 = confusion_matrix(y_train, y_pred2)\n",
    "print(f' Confusion Matrix: \\n {cm2} \\n ')\n",
    "\n",
    "titanic_cm2 = confusion_matrix(y_train, y_pred2)\n",
    "titanic_cm2\n",
    "\n",
    "tn2, fp2, fn2, tp2 = titanic_cm2.ravel()\n",
    "print(\"Number of true negatives  (tn) = \",tn2)\n",
    "print(\"Number of true positives  (tp) = \",tp2)\n",
    "print(\"Number of false negatives (fn) = \",fn2)\n",
    "print(\"Number of false positives (fp) = \",fp2)\n",
    "\n",
    "print(f\"\"\"\n",
    "What the confusion matrix tells us now, in more detail, is that we got {tn}\n",
    "of the people who did not survive right, and {tp} of the people who did survive right.\n",
    "But also that we killed {fn} of the passengers in our model,\n",
    "and brought {fp} of them back to life through Necromancy!\"\"\")\n",
    "#precision\n",
    "pre2 = sklearn.metrics.precision_score(y_train,y_pred2)\n",
    "print(f' The precision is: {pre2:.2%}')\n",
    "\n",
    "#recall\n",
    "rec2 = sklearn.metrics.recall_score(y_train,y_pred2)\n",
    "print(f' The recall rate is: {rec2:.2%}')\n",
    "\n",
    "#f1-score\n",
    "f12 = sklearn.metrics.f1_score(y_train,y_pred2)\n",
    "print(f' The F1 score is: {f12:.2%}')"
   ]
  },
  {
   "cell_type": "markdown",
   "id": "fe80e7df",
   "metadata": {},
   "source": [
    "6.) Which model performs better on your in-sample data?"
   ]
  },
  {
   "cell_type": "code",
   "execution_count": 51,
   "id": "7d9c1334",
   "metadata": {},
   "outputs": [
    {
     "name": "stdout",
     "output_type": "stream",
     "text": [
      " The second model with a max_depth of 30 has an accuracy of: 94.58%, \n",
      " which is superior to the first model at 79.92%\n"
     ]
    }
   ],
   "source": [
    "print(f' The second model with a max_depth of 30 has an accuracy of: {acc2:.2%}, \\n which is superior to the first model at {acc:.2%}')"
   ]
  },
  {
   "cell_type": "markdown",
   "id": "f586806d",
   "metadata": {},
   "source": [
    "7.) Which model performs best on your out-of-sample data, the validate set?"
   ]
  },
  {
   "cell_type": "code",
   "execution_count": 57,
   "id": "ef9f8b51",
   "metadata": {},
   "outputs": [
    {
     "name": "stdout",
     "output_type": "stream",
     "text": [
      "0.7616822429906542\n",
      "0.7523364485981309\n"
     ]
    }
   ],
   "source": [
    "out_of_sample_accuracy = model1.score(X_validate, y_validate)\n",
    "print(out_of_sample_accuracy)\n",
    "out_of_sample_accuracy2 = model2.score(X_validate, y_validate)\n",
    "print(out_of_sample_accuracy2)\n",
    "\n",
    "# I have a feeling I did this incorrectly. "
   ]
  },
  {
   "cell_type": "markdown",
   "id": "54cdb7b9",
   "metadata": {},
   "source": [
    "# Same Exercises, this time on TELCO"
   ]
  },
  {
   "cell_type": "code",
   "execution_count": 2,
   "id": "d088ef9d",
   "metadata": {},
   "outputs": [],
   "source": [
    "def train_validate_test_split(df, target, seed=123):\n",
    "    '''\n",
    "    This function takes in a dataframe, the name of the target variable\n",
    "    (for stratification purposes), and an integer for a setting a seed\n",
    "    and splits the data into train, validate and test. \n",
    "    Test is 20% of the original dataset, validate is .30*.80= 24% of the \n",
    "    original dataset, and train is .70*.80= 56% of the original dataset. \n",
    "    The function returns, in this order, train, validate and test dataframes. \n",
    "    The target is what I intend to stratify. \n",
    "    '''\n",
    "    train_validate, test = train_test_split(df, test_size=0.2, \n",
    "                                            random_state=seed, \n",
    "                                            stratify=df[target])\n",
    "    train, validate = train_test_split(train_validate, test_size=0.3, \n",
    "                                       random_state=seed,\n",
    "                                       stratify=train_validate[target])\n",
    "    return train, validate, test\n"
   ]
  },
  {
   "cell_type": "markdown",
   "id": "4df12c92",
   "metadata": {},
   "source": [
    "1.) What is your baseline prediction? What is your baseline accuracy? remember: your baseline prediction for a classification problem is predicting the most prevelant class in the training dataset (the mode). When you make those predictions, what is your accuracy? This is your baseline accuracy."
   ]
  },
  {
   "cell_type": "code",
   "execution_count": 3,
   "id": "6c1e06af",
   "metadata": {},
   "outputs": [
    {
     "name": "stdout",
     "output_type": "stream",
     "text": [
      "Using cached csv\n"
     ]
    },
    {
     "data": {
      "text/html": [
       "<div>\n",
       "<style scoped>\n",
       "    .dataframe tbody tr th:only-of-type {\n",
       "        vertical-align: middle;\n",
       "    }\n",
       "\n",
       "    .dataframe tbody tr th {\n",
       "        vertical-align: top;\n",
       "    }\n",
       "\n",
       "    .dataframe thead th {\n",
       "        text-align: right;\n",
       "    }\n",
       "</style>\n",
       "<table border=\"1\" class=\"dataframe\">\n",
       "  <thead>\n",
       "    <tr style=\"text-align: right;\">\n",
       "      <th></th>\n",
       "      <th>senior_citizen</th>\n",
       "      <th>tenure</th>\n",
       "      <th>monthly_charges</th>\n",
       "      <th>churn</th>\n",
       "      <th>is_male</th>\n",
       "      <th>has_partner</th>\n",
       "      <th>has_dependent</th>\n",
       "      <th>has_phone</th>\n",
       "      <th>has_internet</th>\n",
       "      <th>fiber</th>\n",
       "      <th>no_contract</th>\n",
       "      <th>electronic_check</th>\n",
       "      <th>autopay</th>\n",
       "    </tr>\n",
       "  </thead>\n",
       "  <tbody>\n",
       "    <tr>\n",
       "      <th>0</th>\n",
       "      <td>0</td>\n",
       "      <td>9</td>\n",
       "      <td>65.6</td>\n",
       "      <td>0</td>\n",
       "      <td>0</td>\n",
       "      <td>1</td>\n",
       "      <td>1</td>\n",
       "      <td>1</td>\n",
       "      <td>1</td>\n",
       "      <td>0</td>\n",
       "      <td>0</td>\n",
       "      <td>0</td>\n",
       "      <td>0</td>\n",
       "    </tr>\n",
       "    <tr>\n",
       "      <th>1</th>\n",
       "      <td>0</td>\n",
       "      <td>9</td>\n",
       "      <td>59.9</td>\n",
       "      <td>0</td>\n",
       "      <td>1</td>\n",
       "      <td>0</td>\n",
       "      <td>0</td>\n",
       "      <td>1</td>\n",
       "      <td>1</td>\n",
       "      <td>0</td>\n",
       "      <td>1</td>\n",
       "      <td>0</td>\n",
       "      <td>0</td>\n",
       "    </tr>\n",
       "    <tr>\n",
       "      <th>2</th>\n",
       "      <td>0</td>\n",
       "      <td>4</td>\n",
       "      <td>73.9</td>\n",
       "      <td>1</td>\n",
       "      <td>1</td>\n",
       "      <td>0</td>\n",
       "      <td>0</td>\n",
       "      <td>1</td>\n",
       "      <td>1</td>\n",
       "      <td>1</td>\n",
       "      <td>1</td>\n",
       "      <td>1</td>\n",
       "      <td>0</td>\n",
       "    </tr>\n",
       "    <tr>\n",
       "      <th>3</th>\n",
       "      <td>1</td>\n",
       "      <td>13</td>\n",
       "      <td>98.0</td>\n",
       "      <td>1</td>\n",
       "      <td>1</td>\n",
       "      <td>1</td>\n",
       "      <td>0</td>\n",
       "      <td>1</td>\n",
       "      <td>1</td>\n",
       "      <td>1</td>\n",
       "      <td>1</td>\n",
       "      <td>1</td>\n",
       "      <td>0</td>\n",
       "    </tr>\n",
       "    <tr>\n",
       "      <th>4</th>\n",
       "      <td>1</td>\n",
       "      <td>3</td>\n",
       "      <td>83.9</td>\n",
       "      <td>1</td>\n",
       "      <td>0</td>\n",
       "      <td>1</td>\n",
       "      <td>0</td>\n",
       "      <td>1</td>\n",
       "      <td>1</td>\n",
       "      <td>1</td>\n",
       "      <td>1</td>\n",
       "      <td>0</td>\n",
       "      <td>0</td>\n",
       "    </tr>\n",
       "  </tbody>\n",
       "</table>\n",
       "</div>"
      ],
      "text/plain": [
       "   senior_citizen  tenure  monthly_charges  churn  is_male  has_partner  \\\n",
       "0               0       9             65.6      0        0            1   \n",
       "1               0       9             59.9      0        1            0   \n",
       "2               0       4             73.9      1        1            0   \n",
       "3               1      13             98.0      1        1            1   \n",
       "4               1       3             83.9      1        0            1   \n",
       "\n",
       "   has_dependent  has_phone  has_internet  fiber  no_contract  \\\n",
       "0              1          1             1      0            0   \n",
       "1              0          1             1      0            1   \n",
       "2              0          1             1      1            1   \n",
       "3              0          1             1      1            1   \n",
       "4              0          1             1      1            1   \n",
       "\n",
       "   electronic_check  autopay  \n",
       "0                 0        0  \n",
       "1                 0        0  \n",
       "2                 1        0  \n",
       "3                 1        0  \n",
       "4                 0        0  "
      ]
     },
     "execution_count": 3,
     "metadata": {},
     "output_type": "execute_result"
    }
   ],
   "source": [
    "telco = df = get_telco_data()\n",
    "telco = df = prep_telco(telco)\n",
    "telco.head()"
   ]
  },
  {
   "cell_type": "code",
   "execution_count": 4,
   "id": "9b4050c2",
   "metadata": {},
   "outputs": [],
   "source": [
    "train_validate_test_split(telco, 'churn')\n",
    "train, validate, test = train_validate_test_split(df, target='churn', seed=123)\n",
    "\n",
    "X_train = train.drop(columns=['churn'])\n",
    "y_train = train.churn\n",
    "\n",
    "X_validate = validate.drop(columns=['churn'])\n",
    "y_validate = validate.churn\n",
    "\n",
    "X_test = test.drop(columns=['churn'])\n",
    "y_test = test.churn"
   ]
  },
  {
   "cell_type": "code",
   "execution_count": 5,
   "id": "381be008",
   "metadata": {},
   "outputs": [
    {
     "data": {
      "text/plain": [
       "0    2897\n",
       "1    1046\n",
       "Name: churn, dtype: int64"
      ]
     },
     "execution_count": 5,
     "metadata": {},
     "output_type": "execute_result"
    }
   ],
   "source": [
    "train.churn.value_counts() \n",
    "# as expected, those who did not churn outnumber those who did. "
   ]
  },
  {
   "cell_type": "code",
   "execution_count": 6,
   "id": "80d94b09",
   "metadata": {},
   "outputs": [
    {
     "name": "stdout",
     "output_type": "stream",
     "text": [
      "0    0\n",
      "dtype: int64\n",
      "Baseline accuracy: 0.73\n"
     ]
    }
   ],
   "source": [
    "baseline = y_train.mode()\n",
    "print(baseline)\n",
    "\n",
    "# Produce a boolean array with True representing a match between the baseline prediction and reality\n",
    "matches_baseline_prediction = (y_train == 0)\n",
    "\n",
    "baseline_accuracy = matches_baseline_prediction.mean()\n",
    "print(f\"Baseline accuracy: {round(baseline_accuracy, 2)}\")"
   ]
  },
  {
   "cell_type": "markdown",
   "id": "5892e6cb",
   "metadata": {},
   "source": [
    "2.) Fit the decision tree classifier to your training sample and transform (i.e. make predictions on the training sample)"
   ]
  },
  {
   "cell_type": "code",
   "execution_count": 7,
   "id": "24c0ebbe",
   "metadata": {},
   "outputs": [
    {
     "name": "stdout",
     "output_type": "stream",
     "text": [
      "training score: 78.85%\n",
      "validate score: 79.07%\n"
     ]
    }
   ],
   "source": [
    "# Make the model\n",
    "tree1 = DecisionTreeClassifier(max_depth=3, random_state=123)\n",
    "\n",
    "# Fit the model (on train and only train)\n",
    "tree1 = tree1.fit(X_train, y_train)\n",
    "\n",
    "# Use the model\n",
    "# We'll evaluate the model's performance on train, first\n",
    "y_predictions = tree1.predict(X_train)\n",
    "\n",
    "print(f'training score: {tree1.score(X_train, y_train):.2%}')\n",
    "print(f'validate score: {tree1.score(X_validate, y_validate):.2%}')\n",
    "\n",
    "y_pred = tree1.predict(X_train)"
   ]
  },
  {
   "cell_type": "markdown",
   "id": "05924ee8",
   "metadata": {},
   "source": [
    "3.) Evaluate your in-sample results using the model score, confusion matrix, and classification report."
   ]
  },
  {
   "cell_type": "code",
   "execution_count": 8,
   "id": "e5bbb1ad",
   "metadata": {},
   "outputs": [
    {
     "name": "stdout",
     "output_type": "stream",
     "text": [
      " The Model score is: 0.7906564163217031\n",
      " Confusion Matrix: \n",
      "       0    1\n",
      "0  2715  182\n",
      "1   652  394\n",
      "----------------------------\n",
      "Tree with max depth of 3\n"
     ]
    },
    {
     "data": {
      "text/html": [
       "<div>\n",
       "<style scoped>\n",
       "    .dataframe tbody tr th:only-of-type {\n",
       "        vertical-align: middle;\n",
       "    }\n",
       "\n",
       "    .dataframe tbody tr th {\n",
       "        vertical-align: top;\n",
       "    }\n",
       "\n",
       "    .dataframe thead th {\n",
       "        text-align: right;\n",
       "    }\n",
       "</style>\n",
       "<table border=\"1\" class=\"dataframe\">\n",
       "  <thead>\n",
       "    <tr style=\"text-align: right;\">\n",
       "      <th></th>\n",
       "      <th>0</th>\n",
       "      <th>1</th>\n",
       "      <th>accuracy</th>\n",
       "      <th>macro avg</th>\n",
       "      <th>weighted avg</th>\n",
       "    </tr>\n",
       "  </thead>\n",
       "  <tbody>\n",
       "    <tr>\n",
       "      <th>precision</th>\n",
       "      <td>0.806356</td>\n",
       "      <td>0.684028</td>\n",
       "      <td>0.788486</td>\n",
       "      <td>0.745192</td>\n",
       "      <td>0.773905</td>\n",
       "    </tr>\n",
       "    <tr>\n",
       "      <th>recall</th>\n",
       "      <td>0.937176</td>\n",
       "      <td>0.376673</td>\n",
       "      <td>0.788486</td>\n",
       "      <td>0.656925</td>\n",
       "      <td>0.788486</td>\n",
       "    </tr>\n",
       "    <tr>\n",
       "      <th>f1-score</th>\n",
       "      <td>0.866858</td>\n",
       "      <td>0.485820</td>\n",
       "      <td>0.788486</td>\n",
       "      <td>0.676339</td>\n",
       "      <td>0.765776</td>\n",
       "    </tr>\n",
       "    <tr>\n",
       "      <th>support</th>\n",
       "      <td>2897.000000</td>\n",
       "      <td>1046.000000</td>\n",
       "      <td>0.788486</td>\n",
       "      <td>3943.000000</td>\n",
       "      <td>3943.000000</td>\n",
       "    </tr>\n",
       "  </tbody>\n",
       "</table>\n",
       "</div>"
      ],
      "text/plain": [
       "                     0            1  accuracy    macro avg  weighted avg\n",
       "precision     0.806356     0.684028  0.788486     0.745192      0.773905\n",
       "recall        0.937176     0.376673  0.788486     0.656925      0.788486\n",
       "f1-score      0.866858     0.485820  0.788486     0.676339      0.765776\n",
       "support    2897.000000  1046.000000  0.788486  3943.000000   3943.000000"
      ]
     },
     "execution_count": 8,
     "metadata": {},
     "output_type": "execute_result"
    }
   ],
   "source": [
    "# model score\n",
    "print(f' The Model score is: {tree1.score(X_validate, y_validate)}')\n",
    "\n",
    "# One approach to confusion matrix\n",
    "print(f' Confusion Matrix: \\n {pd.DataFrame(confusion_matrix(y_train, y_predictions))}')\n",
    "print('----------------------------')\n",
    "report = classification_report(y_train, y_predictions, output_dict=True)\n",
    "print(\"Tree with max depth of 3\")\n",
    "pd.DataFrame(report)"
   ]
  },
  {
   "cell_type": "markdown",
   "id": "b0b5ecb9",
   "metadata": {},
   "source": [
    "4.) Compute: Accuracy, true positive rate, false positive rate, true negative rate, false negative rate, precision, recall, f1-score, and support."
   ]
  },
  {
   "cell_type": "code",
   "execution_count": 10,
   "id": "d93af833",
   "metadata": {},
   "outputs": [
    {
     "name": "stdout",
     "output_type": "stream",
     "text": [
      " The accuracy is: 78.85%\n",
      " Confusion Matrix: \n",
      " [[2715  182]\n",
      " [ 652  394]] \n",
      " \n",
      "Number of true negatives  (tn) =  2715\n",
      "Number of true positives  (tp) =  394\n",
      "Number of false negatives (fn) =  652\n",
      "Number of false positives (fp) =  182\n",
      "\n",
      "What the confusion matrix tells us now, in more detail, is that we got 2715\n",
      "of the people who churned right, and 394 of the people who did not churn right.\n",
      "But also we incorrectly churned 652 customers in our model,\n",
      "and mismarked 182 of them as churners!\n",
      " The precision is: 68.40%\n",
      " The recall rate is: 37.67%\n",
      " The F1 score is: 48.58%\n"
     ]
    }
   ],
   "source": [
    "acc = sklearn.metrics.accuracy_score(y_train, y_predictions)\n",
    "print(f' The accuracy is: {acc:.2%}')\n",
    "\n",
    "#Confusion Matrix for TP FP TN FN\n",
    "cm = confusion_matrix(y_train, y_predictions)\n",
    "print(f' Confusion Matrix: \\n {cm} \\n ')\n",
    "\n",
    "telco_cm = confusion_matrix(y_train, y_predictions)\n",
    "telco_cm\n",
    "\n",
    "tn, fp, fn, tp = telco_cm.ravel()\n",
    "print(\"Number of true negatives  (tn) = \",tn)\n",
    "print(\"Number of true positives  (tp) = \",tp)\n",
    "print(\"Number of false negatives (fn) = \",fn)\n",
    "print(\"Number of false positives (fp) = \",fp)\n",
    "\n",
    "print(f\"\"\"\n",
    "What the confusion matrix tells us now, in more detail, is that we got {tn}\n",
    "of the people who churned right, and {tp} of the people who did not churn right.\n",
    "But also we incorrectly churned {fn} customers in our model,\n",
    "and mismarked {fp} of them as churners!\"\"\")\n",
    "\n",
    "#precision\n",
    "pre = sklearn.metrics.precision_score(y_train,y_predictions)\n",
    "print(f' The precision is: {pre:.2%}')\n",
    "\n",
    "#recall\n",
    "rec = sklearn.metrics.recall_score(y_train,y_predictions)\n",
    "print(f' The recall rate is: {rec:.2%}')\n",
    "\n",
    "#f1-score\n",
    "f1 = sklearn.metrics.f1_score(y_train,y_predictions)\n",
    "print(f' The F1 score is: {f1:.2%}')"
   ]
  },
  {
   "cell_type": "markdown",
   "id": "d2f916d7",
   "metadata": {},
   "source": [
    "5.) Run through steps 2-4 using a different max_depth value."
   ]
  },
  {
   "cell_type": "code",
   "execution_count": 13,
   "id": "3d3ebb4c",
   "metadata": {},
   "outputs": [
    {
     "name": "stdout",
     "output_type": "stream",
     "text": [
      "training score: 78.85%\n",
      "validate score: 79.07%\n"
     ]
    }
   ],
   "source": [
    "# Make the model\n",
    "tree2 = DecisionTreeClassifier(max_depth=15, random_state=123)\n",
    "\n",
    "# Fit the model (on train and only train)\n",
    "tree2 = tree2.fit(X_train, y_train)\n",
    "\n",
    "# Use the model\n",
    "# We'll evaluate the model's performance on train, first\n",
    "y_predictions2 = tree2.predict(X_train)\n",
    "\n",
    "print(f'training score: {tree1.score(X_train, y_train):.2%}')\n",
    "print(f'validate score: {tree1.score(X_validate, y_validate):.2%}')\n",
    "\n",
    "y_predictions2 = tree2.predict(X_train)"
   ]
  },
  {
   "cell_type": "code",
   "execution_count": 15,
   "id": "61c8407e",
   "metadata": {},
   "outputs": [
    {
     "name": "stdout",
     "output_type": "stream",
     "text": [
      " The Model score is: 0.7451212300413956\n",
      " Confusion Matrix: \n",
      "       0    1\n",
      "0  2715  182\n",
      "1   652  394\n",
      "----------------------------\n",
      "Tree with max depth of 3\n"
     ]
    },
    {
     "data": {
      "text/html": [
       "<div>\n",
       "<style scoped>\n",
       "    .dataframe tbody tr th:only-of-type {\n",
       "        vertical-align: middle;\n",
       "    }\n",
       "\n",
       "    .dataframe tbody tr th {\n",
       "        vertical-align: top;\n",
       "    }\n",
       "\n",
       "    .dataframe thead th {\n",
       "        text-align: right;\n",
       "    }\n",
       "</style>\n",
       "<table border=\"1\" class=\"dataframe\">\n",
       "  <thead>\n",
       "    <tr style=\"text-align: right;\">\n",
       "      <th></th>\n",
       "      <th>0</th>\n",
       "      <th>1</th>\n",
       "      <th>accuracy</th>\n",
       "      <th>macro avg</th>\n",
       "      <th>weighted avg</th>\n",
       "    </tr>\n",
       "  </thead>\n",
       "  <tbody>\n",
       "    <tr>\n",
       "      <th>precision</th>\n",
       "      <td>0.806356</td>\n",
       "      <td>0.684028</td>\n",
       "      <td>0.788486</td>\n",
       "      <td>0.745192</td>\n",
       "      <td>0.773905</td>\n",
       "    </tr>\n",
       "    <tr>\n",
       "      <th>recall</th>\n",
       "      <td>0.937176</td>\n",
       "      <td>0.376673</td>\n",
       "      <td>0.788486</td>\n",
       "      <td>0.656925</td>\n",
       "      <td>0.788486</td>\n",
       "    </tr>\n",
       "    <tr>\n",
       "      <th>f1-score</th>\n",
       "      <td>0.866858</td>\n",
       "      <td>0.485820</td>\n",
       "      <td>0.788486</td>\n",
       "      <td>0.676339</td>\n",
       "      <td>0.765776</td>\n",
       "    </tr>\n",
       "    <tr>\n",
       "      <th>support</th>\n",
       "      <td>2897.000000</td>\n",
       "      <td>1046.000000</td>\n",
       "      <td>0.788486</td>\n",
       "      <td>3943.000000</td>\n",
       "      <td>3943.000000</td>\n",
       "    </tr>\n",
       "  </tbody>\n",
       "</table>\n",
       "</div>"
      ],
      "text/plain": [
       "                     0            1  accuracy    macro avg  weighted avg\n",
       "precision     0.806356     0.684028  0.788486     0.745192      0.773905\n",
       "recall        0.937176     0.376673  0.788486     0.656925      0.788486\n",
       "f1-score      0.866858     0.485820  0.788486     0.676339      0.765776\n",
       "support    2897.000000  1046.000000  0.788486  3943.000000   3943.000000"
      ]
     },
     "execution_count": 15,
     "metadata": {},
     "output_type": "execute_result"
    }
   ],
   "source": [
    "# model score\n",
    "print(f' The Model score is: {tree2.score(X_validate, y_validate)}')\n",
    "\n",
    "# One approach to confusion matrix\n",
    "print(f' Confusion Matrix: \\n {pd.DataFrame(confusion_matrix(y_train, y_predictions))}')\n",
    "print('----------------------------')\n",
    "report = classification_report(y_train, y_predictions, output_dict=True)\n",
    "print(\"Tree with max depth of 15\")\n",
    "pd.DataFrame(report)"
   ]
  },
  {
   "cell_type": "markdown",
   "id": "b2436484",
   "metadata": {},
   "source": [
    "6.) Which model performs better on your in-sample data?"
   ]
  },
  {
   "cell_type": "code",
   "execution_count": null,
   "id": "b3a691d3",
   "metadata": {},
   "outputs": [],
   "source": [
    "# Now I am convinced I am doing this incorrectly "
   ]
  },
  {
   "cell_type": "markdown",
   "id": "19167a06",
   "metadata": {},
   "source": [
    "7.) Which model performs best on your out-of-sample data, the validate set?"
   ]
  },
  {
   "cell_type": "code",
   "execution_count": null,
   "id": "b7851bb1",
   "metadata": {},
   "outputs": [],
   "source": []
  },
  {
   "cell_type": "code",
   "execution_count": null,
   "id": "dbd8880d",
   "metadata": {},
   "outputs": [],
   "source": []
  },
  {
   "cell_type": "code",
   "execution_count": null,
   "id": "b3cde4fc",
   "metadata": {},
   "outputs": [],
   "source": []
  },
  {
   "cell_type": "markdown",
   "id": "81def620",
   "metadata": {},
   "source": [
    "# Random Forest\n"
   ]
  },
  {
   "cell_type": "markdown",
   "id": "cf876e75",
   "metadata": {},
   "source": [
    "1.) Fit the Random Forest classifier to your training sample and transform (i.e. make predictions on the training sample) setting the random_state accordingly and setting min_samples_leaf = 1 and max_depth = 10.\n",
    "\n"
   ]
  },
  {
   "cell_type": "code",
   "execution_count": null,
   "id": "d7284f5e",
   "metadata": {},
   "outputs": [],
   "source": []
  },
  {
   "cell_type": "markdown",
   "id": "e143430b",
   "metadata": {},
   "source": [
    "2.) Evaluate your results using the model score, confusion matrix, and classification report.\n"
   ]
  },
  {
   "cell_type": "code",
   "execution_count": null,
   "id": "4f110b13",
   "metadata": {},
   "outputs": [],
   "source": []
  },
  {
   "cell_type": "markdown",
   "id": "a3882422",
   "metadata": {},
   "source": [
    "3.) Print and clearly label the following: Accuracy, true positive rate, false positive rate, true negative rate, false negative rate, precision, recall, f1-score, and support.\n",
    "\n"
   ]
  },
  {
   "cell_type": "code",
   "execution_count": null,
   "id": "a57a124b",
   "metadata": {},
   "outputs": [],
   "source": []
  },
  {
   "cell_type": "markdown",
   "id": "c1503cd5",
   "metadata": {},
   "source": [
    "4.) Run through steps increasing your min_samples_leaf and decreasing your max_depth.\n"
   ]
  },
  {
   "cell_type": "code",
   "execution_count": null,
   "id": "8e95a7e8",
   "metadata": {},
   "outputs": [],
   "source": []
  },
  {
   "cell_type": "markdown",
   "id": "d597482d",
   "metadata": {},
   "source": [
    "5.) What are the differences in the evaluation metrics? Which performs better on your in-sample data? Why?"
   ]
  },
  {
   "cell_type": "code",
   "execution_count": null,
   "id": "1f24a4d1",
   "metadata": {},
   "outputs": [],
   "source": []
  }
 ],
 "metadata": {
  "kernelspec": {
   "display_name": "Python 3 (ipykernel)",
   "language": "python",
   "name": "python3"
  },
  "language_info": {
   "codemirror_mode": {
    "name": "ipython",
    "version": 3
   },
   "file_extension": ".py",
   "mimetype": "text/x-python",
   "name": "python",
   "nbconvert_exporter": "python",
   "pygments_lexer": "ipython3",
   "version": "3.9.7"
  }
 },
 "nbformat": 4,
 "nbformat_minor": 5
}
